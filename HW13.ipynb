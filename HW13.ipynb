{
  "nbformat": 4,
  "nbformat_minor": 0,
  "metadata": {
    "colab": {
      "provenance": [],
      "authorship_tag": "ABX9TyMPQYpQpF7JPrBoXMyA12Yd",
      "include_colab_link": true
    },
    "kernelspec": {
      "name": "python3",
      "display_name": "Python 3"
    },
    "language_info": {
      "name": "python"
    }
  },
  "cells": [
    {
      "cell_type": "markdown",
      "metadata": {
        "id": "view-in-github",
        "colab_type": "text"
      },
      "source": [
        "<a href=\"https://colab.research.google.com/github/DanyaFire/Pyprac/blob/main/HW13.ipynb\" target=\"_parent\"><img src=\"https://colab.research.google.com/assets/colab-badge.svg\" alt=\"Open In Colab\"/></a>"
      ]
    },
    {
      "cell_type": "markdown",
      "source": [
        "**Задача 1**\n",
        "\n",
        "Что выведет данная программа?\n",
        "\n",
        "В ответе напишите результат работы программы.\n",
        "\n",
        "Ответ: ['Женя', 'Вася']"
      ],
      "metadata": {
        "id": "9lrto3frXtHu"
      }
    },
    {
      "cell_type": "code",
      "execution_count": 1,
      "metadata": {
        "colab": {
          "base_uri": "https://localhost:8080/"
        },
        "id": "lPW3lagpXmbm",
        "outputId": "108d30c4-492f-4e96-8c59-fc04531611d9"
      },
      "outputs": [
        {
          "output_type": "stream",
          "name": "stdout",
          "text": [
            "['Женя', 'Вася']\n"
          ]
        }
      ],
      "source": [
        "D = {'Женя': 89, 'Вася': 100, 'Марк': 71, 'Мария': 79}\n",
        "f = list(filter(lambda x: D[x] > 80, D))\n",
        "print(f)\n"
      ]
    },
    {
      "cell_type": "markdown",
      "source": [
        "**Задача 2**\n",
        "\n",
        "На вход подается массив чисел. Напишите лямбда функцию, которая возводит в\n",
        "куб свой аргумент. Примените функцию для каждого элемента массива и выведите\n",
        "полученный массив. В ответе запишите результат работы программы для массива\n",
        "чисел: [2, 4, 6, 8, 10]\n",
        "\n",
        "Подсказка: можно воспользоваться встроенной функцией map"
      ],
      "metadata": {
        "id": "G_PJkgzcYpbi"
      }
    },
    {
      "cell_type": "code",
      "source": [
        "print(list(map(lambda x: x**3, [2,4,6,8,10])))"
      ],
      "metadata": {
        "colab": {
          "base_uri": "https://localhost:8080/"
        },
        "id": "2-MBxwiNYy0J",
        "outputId": "e0018676-8e5f-42ea-b1fc-72db78a492ea"
      },
      "execution_count": 2,
      "outputs": [
        {
          "output_type": "stream",
          "name": "stdout",
          "text": [
            "[8, 64, 216, 512, 1000]\n"
          ]
        }
      ]
    },
    {
      "cell_type": "markdown",
      "source": [
        "**Задача 3**\n",
        "\n",
        "На вход подается массив чисел. Напишите лямбда функцию, которая ищет числа\n",
        "меньше нуля. Примените функцию для каждого элемента массива и выведите полученный массив. В ответе запишите результат работы программы для массива чисел:\n",
        "[-1, 4, -7, -8, -10, 1, 0]\n",
        "\n",
        "Подсказка: можно воспользоваться встроенной функцией filter"
      ],
      "metadata": {
        "id": "EaoxN0PiZN7y"
      }
    },
    {
      "cell_type": "code",
      "source": [
        "print(list(filter(lambda x: x < 0, [-1, 4, -7, -8, -10, 1, 0])))"
      ],
      "metadata": {
        "colab": {
          "base_uri": "https://localhost:8080/"
        },
        "id": "qBGK-xKpZTk6",
        "outputId": "ab453767-c1f0-4eda-8b21-c10a18525aed"
      },
      "execution_count": 3,
      "outputs": [
        {
          "output_type": "stream",
          "name": "stdout",
          "text": [
            "[-1, -7, -8, -10]\n"
          ]
        }
      ]
    },
    {
      "cell_type": "markdown",
      "source": [
        "**Задача 4**\n",
        "\n",
        "Напишите программу, которая находит факториал числа. Для решения данной задачи воспользуйтесь функцией reduce модуля functools и лямбда функцией. В ответе\n",
        "напишите результат работы программы для числа 8."
      ],
      "metadata": {
        "id": "3QVVOtxaaKmS"
      }
    },
    {
      "cell_type": "code",
      "source": [
        "from functools import reduce\n",
        "\n",
        "print(reduce(lambda x, y: x * y, range(1,9)))"
      ],
      "metadata": {
        "colab": {
          "base_uri": "https://localhost:8080/"
        },
        "id": "wXtQsW29aPNo",
        "outputId": "38c643f6-5002-4caa-ad66-4d2179f24494"
      },
      "execution_count": 8,
      "outputs": [
        {
          "output_type": "stream",
          "name": "stdout",
          "text": [
            "40320\n"
          ]
        }
      ]
    },
    {
      "cell_type": "markdown",
      "source": [
        "**Задача 5**\n",
        "\n",
        "Напишите программу, которая находит максимальный элемент массива, квадрат\n",
        "которого кратен 9. Для решения задачи воспользуйтесь лямбда функцией. Вы также можете воспользоваться функцией reduce модуля functools. В ответе напишите\n",
        "результат работы программы для массива: [2, 4, 6, 8, 0, 3, 4, 2, 3, 5, 1, 2]"
      ],
      "metadata": {
        "id": "PkIgCjGlcOTz"
      }
    },
    {
      "cell_type": "code",
      "source": [
        "print(reduce(lambda a,b: a if a > b else b, list(filter(lambda a: a**2 % 9 == 0, [2, 4, 6, 8, 0, 3, 4, 2, 3, 5, 1, 2]))))"
      ],
      "metadata": {
        "colab": {
          "base_uri": "https://localhost:8080/"
        },
        "id": "9xSJpbVccWcp",
        "outputId": "d994bd9d-d951-4333-d2f1-b8a219b624de"
      },
      "execution_count": 15,
      "outputs": [
        {
          "output_type": "stream",
          "name": "stdout",
          "text": [
            "6\n"
          ]
        }
      ]
    }
  ]
}