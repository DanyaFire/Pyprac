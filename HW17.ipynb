{
  "nbformat": 4,
  "nbformat_minor": 0,
  "metadata": {
    "colab": {
      "provenance": [],
      "authorship_tag": "ABX9TyOxANGGgtkgAQTyZn+MpmOE",
      "include_colab_link": true
    },
    "kernelspec": {
      "name": "python3",
      "display_name": "Python 3"
    },
    "language_info": {
      "name": "python"
    }
  },
  "cells": [
    {
      "cell_type": "markdown",
      "metadata": {
        "id": "view-in-github",
        "colab_type": "text"
      },
      "source": [
        "<a href=\"https://colab.research.google.com/github/DanyaFire/Pyprac/blob/main/HW17.ipynb\" target=\"_parent\"><img src=\"https://colab.research.google.com/assets/colab-badge.svg\" alt=\"Open In Colab\"/></a>"
      ]
    },
    {
      "cell_type": "markdown",
      "source": [
        "# Homework 17"
      ],
      "metadata": {
        "id": "n2MhhfWYdyiF"
      }
    },
    {
      "cell_type": "markdown",
      "source": [
        "**Задача 1**\n",
        "\n",
        "Реализуйте функцию sum_numbers, которая принимает любое количество аргументов и возвращает их сумму."
      ],
      "metadata": {
        "id": "lHLcE7K6d3pT"
      }
    },
    {
      "cell_type": "code",
      "execution_count": 30,
      "metadata": {
        "colab": {
          "base_uri": "https://localhost:8080/"
        },
        "id": "-ZOFSpAJdxdq",
        "outputId": "185fa062-e9fa-4b56-a225-447cc5d6d5e2"
      },
      "outputs": [
        {
          "output_type": "stream",
          "name": "stdout",
          "text": [
            "6\n",
            "100\n"
          ]
        }
      ],
      "source": [
        "def sum_numbers(*args):\n",
        "  return sum(args)\n",
        "\n",
        "print(sum_numbers(1, 2, 3)) # 6\n",
        "print(sum_numbers(10, 20, 30, 40)) # 100\n"
      ]
    },
    {
      "cell_type": "markdown",
      "source": [
        "**Задача 2**\n",
        "\n",
        "Реализуйте функцию print_kwargs, которая принимает произвольное количество\n",
        "именованных аргументов и выводит их на экран в формате «ключ: значение»."
      ],
      "metadata": {
        "id": "_LtN2S12etv_"
      }
    },
    {
      "cell_type": "code",
      "source": [
        "def print_kwargs(**kwargs):\n",
        "  print(kwargs)\n",
        "\n",
        "print_kwargs(name='Alice', age=25, country='USA', food='salad')\n",
        "# name: Alice\n",
        "# age: 25\n",
        "# country: USA\n"
      ],
      "metadata": {
        "colab": {
          "base_uri": "https://localhost:8080/"
        },
        "id": "2x7jmj44evwd",
        "outputId": "7a17bb44-aa08-42b1-c6b3-d0c300d102eb"
      },
      "execution_count": 3,
      "outputs": [
        {
          "output_type": "stream",
          "name": "stdout",
          "text": [
            "{'name': 'Alice', 'age': 25, 'country': 'USA', 'food': 'salad'}\n"
          ]
        }
      ]
    },
    {
      "cell_type": "markdown",
      "source": [
        "**Задача 3**\n",
        "\n",
        "Создайте функцию filter_by_length, которая будет принимать список строк и\n",
        "дополнительный аргумент min_length. Функция должна использовать args для передачи списка строк переменной длины и kwargs для передачи значения min_length.\n",
        "\n",
        "Функция должна вернуть новый список, содержащий только те строки, длина которых больше или равна min_length."
      ],
      "metadata": {
        "id": "YDDJRHRffZAK"
      }
    },
    {
      "cell_type": "code",
      "source": [
        "def filter_by_length(*args, **kwargs):\n",
        "  return list(filter(lambda x: len(x) >= kwargs['min_len'], args))\n",
        "\n",
        "print(filter_by_length(*['Hello World', 'Goodbye', 'See you soon', 'python', 'SQL', 'AR'], min_len=7))\n",
        "\n",
        "strings = [\"hello\", \"world\", \"how\", \"are\", \"you\"]\n",
        "print(filter_by_length(*strings, min_len=4))\n",
        "# [’hello’, ’world’]\n",
        "print(filter_by_length(*strings, min_len=3))\n",
        "# [’hello’, ’world’, ’how’, ’are’, ’you’]"
      ],
      "metadata": {
        "colab": {
          "base_uri": "https://localhost:8080/"
        },
        "id": "hq8xsKmefojL",
        "outputId": "81f7f23e-f7ff-4e03-af42-5d0f97428088"
      },
      "execution_count": 37,
      "outputs": [
        {
          "output_type": "stream",
          "name": "stdout",
          "text": [
            "['Hello World', 'Goodbye', 'See you soon']\n",
            "['hello', 'world']\n",
            "['hello', 'world', 'how', 'are', 'you']\n"
          ]
        }
      ]
    },
    {
      "cell_type": "markdown",
      "source": [
        "**Задача 4**\n",
        "\n",
        "Реализуйте функцию calculate_total_price, которая принимает на вход стоимость товара и произвольное количество ключевых аргументов, где каждый ключ\n",
        "представляет собой тип скидки, а значение — размер скидки в процентах. Функция\n",
        "должна вернуть общую стоимость товара после применения скидок."
      ],
      "metadata": {
        "id": "zlVBAdOqkcrh"
      }
    },
    {
      "cell_type": "code",
      "source": [
        "def calculate_total_price(price, **kwargs):\n",
        "    price *= (1 - sum(kwargs.values())/100)\n",
        "    return price\n",
        "\n",
        "print(calculate_total_price(100, student=10, coupon=20)) # 70.0\n",
        "print(calculate_total_price(200, holiday=25)) # 150.0\n",
        "print(calculate_total_price(500)) # 500.0"
      ],
      "metadata": {
        "colab": {
          "base_uri": "https://localhost:8080/"
        },
        "id": "TxFOlXvRlyfs",
        "outputId": "f2b1e10a-8de0-4d32-a615-6e1895492468"
      },
      "execution_count": 41,
      "outputs": [
        {
          "output_type": "stream",
          "name": "stdout",
          "text": [
            "70.0\n",
            "150.0\n",
            "500.0\n"
          ]
        }
      ]
    },
    {
      "cell_type": "markdown",
      "source": [
        "**Задача 5**\n",
        "\n",
        "Напишите функцию custom_print, которая будет принимать произвольное количество аргументов args и kwargs и выводить их на экран в формате значение (args)\n",
        "или ключ=значение ( kwargs), разделяя аргументы разделителем. Если передан аргумент sep, он должен использоваться в качестве разделителя между аргументами.\n",
        "Если передан аргумент end, он должен использоваться в качестве символа окончания строки."
      ],
      "metadata": {
        "id": "wN2jvmPkn2X3"
      }
    },
    {
      "cell_type": "code",
      "source": [
        "def custom_print(*args, **kwargs):\n",
        "  separator = kwargs.get('sep', ' ')\n",
        "  end_char = kwargs.get('end', '\\n')\n",
        "\n",
        "  if end_char != '\\n':\n",
        "    end_char += '\\n'\n",
        "\n",
        "  out = []\n",
        "  for arg in args:\n",
        "    out.append(str(arg))\n",
        "\n",
        "  for key, value in kwargs.items():\n",
        "    if key not in ['sep', 'end']:\n",
        "      out.append(f'{key}={value}')\n",
        "\n",
        "  print(separator.join(out), end = end_char)\n",
        "\n",
        "\n",
        "custom_print(1, 2, 3, a=4, b=5, sep=\"-\", end=\"!\")\n",
        "# 1-2-3-a=4-b=5!\n",
        "custom_print(\"Hello\", \"World\", sep=\" \")\n",
        "# Hello World\n",
        "custom_print('apple', \"banana\", \"cherry\", sep=', ')\n",
        "# apple, banana, cherry\n",
        "custom_print(a=1, b=2, end='...')\n",
        "# a=1 b=2..."
      ],
      "metadata": {
        "colab": {
          "base_uri": "https://localhost:8080/"
        },
        "id": "AJwY6KD3n7nT",
        "outputId": "f40b4353-2795-4091-b365-b08a95bf276a"
      },
      "execution_count": 80,
      "outputs": [
        {
          "output_type": "stream",
          "name": "stdout",
          "text": [
            "1-2-3-a=4-b=5!\n",
            "Hello World\n",
            "apple, banana, cherry\n",
            "a=1 b=2...\n"
          ]
        }
      ]
    }
  ]
}