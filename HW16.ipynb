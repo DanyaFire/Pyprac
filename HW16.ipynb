{
  "nbformat": 4,
  "nbformat_minor": 0,
  "metadata": {
    "colab": {
      "provenance": [],
      "mount_file_id": "1ZTKEccEXFTIH7Ig8v-hldnYcuV-k3x7l",
      "authorship_tag": "ABX9TyMViLRQ8spn/vPUxIux3pzX",
      "include_colab_link": true
    },
    "kernelspec": {
      "name": "python3",
      "display_name": "Python 3"
    },
    "language_info": {
      "name": "python"
    }
  },
  "cells": [
    {
      "cell_type": "markdown",
      "metadata": {
        "id": "view-in-github",
        "colab_type": "text"
      },
      "source": [
        "<a href=\"https://colab.research.google.com/github/DanyaFire/Pyprac/blob/main/HW16.ipynb\" target=\"_parent\"><img src=\"https://colab.research.google.com/assets/colab-badge.svg\" alt=\"Open In Colab\"/></a>"
      ]
    },
    {
      "cell_type": "markdown",
      "source": [
        "# Homework 16"
      ],
      "metadata": {
        "id": "dTtKZ9Al2iSp"
      }
    },
    {
      "cell_type": "markdown",
      "source": [
        "Ваш научный руководитель, Роман Александрович, поручил вам разработку новейшей библиотеки для обработки файлов и поставил огромное техническое задание.\n",
        "Вам требуется реализовать функции со следующими функционалами:\n",
        "\n",
        "Примечание. В качестве аргумента для каждой из следующих функций подаётся имя файла. Максимально желательно после прочтения файла его закрывать\n",
        "с помощью .close() или использовать окружение with\n",
        "\n"
      ],
      "metadata": {
        "id": "WFsc6f8l2nN5"
      }
    },
    {
      "cell_type": "markdown",
      "source": [
        "1. функция, которая возвращает всё содержимое файла в виде строки;"
      ],
      "metadata": {
        "id": "M75ur8G9262Q"
      }
    },
    {
      "cell_type": "code",
      "execution_count": 15,
      "metadata": {
        "colab": {
          "base_uri": "https://localhost:8080/"
        },
        "id": "60GA8dxez1-5",
        "outputId": "e2fab969-3714-4d6d-f31e-f0495780c33e"
      },
      "outputs": [
        {
          "output_type": "stream",
          "name": "stdout",
          "text": [
            "A/B testing is a shorthand for a simple randomized controlled experiment, in which a number of samples (e.g. A and B) of a single vector-variable are compared. \n",
            "A/B tests are widely considered the simplest form of controlled experiment, especially when they only involve two variants. \n",
            "However, by adding more variants to the test, its complexity grows.\n"
          ]
        }
      ],
      "source": [
        "def f_to_str(f_name):\n",
        "  with open(f_name, 'r') as f:\n",
        "    s = f.read()\n",
        "  return s\n",
        "\n",
        "print(f_to_str('/content/drive/MyDrive/Python_KDA/ex.txt'))"
      ]
    },
    {
      "cell_type": "markdown",
      "source": [
        "2. функция, которая возвращает первую строку из файла;\n"
      ],
      "metadata": {
        "id": "kOuSPZe65fzC"
      }
    },
    {
      "cell_type": "code",
      "source": [
        "def read_first_str(f_name):\n",
        "  with open(f_name, 'r') as f:\n",
        "    s = f.readline()\n",
        "  return s\n",
        "\n",
        "print(read_first_str('/content/drive/MyDrive/Python_KDA/ex.txt'))"
      ],
      "metadata": {
        "colab": {
          "base_uri": "https://localhost:8080/"
        },
        "id": "2dMcHo225jEa",
        "outputId": "5b12cda7-f117-4bfc-e8d1-e43baa2ee3c1"
      },
      "execution_count": 16,
      "outputs": [
        {
          "output_type": "stream",
          "name": "stdout",
          "text": [
            "A/B testing is a shorthand for a simple randomized controlled experiment, in which a number of samples (e.g. A and B) of a single vector-variable are compared. \n",
            "\n"
          ]
        }
      ]
    },
    {
      "cell_type": "markdown",
      "source": [
        "3. функция, которая возвращает список всех строк из файла (включая символы\n",
        "переноса строки);\n"
      ],
      "metadata": {
        "id": "Rk0DVfV1HRHR"
      }
    },
    {
      "cell_type": "code",
      "source": [
        "def read_all_str(f_name):\n",
        "  with open(f_name, 'r') as f:\n",
        "    s = f.readlines()\n",
        "  return s\n",
        "\n",
        "\n",
        "print(read_all_str('/content/drive/MyDrive/Python_KDA/ex.txt'))"
      ],
      "metadata": {
        "colab": {
          "base_uri": "https://localhost:8080/"
        },
        "id": "GkAVDzi1HakQ",
        "outputId": "57c5c0b9-1dd0-4057-dc37-f0b7b7f29715"
      },
      "execution_count": 17,
      "outputs": [
        {
          "output_type": "stream",
          "name": "stdout",
          "text": [
            "['A/B testing is a shorthand for a simple randomized controlled experiment, in which a number of samples (e.g. A and B) of a single vector-variable are compared. \\n', 'A/B tests are widely considered the simplest form of controlled experiment, especially when they only involve two variants. \\n', 'However, by adding more variants to the test, its complexity grows.']\n"
          ]
        }
      ]
    },
    {
      "cell_type": "markdown",
      "source": [
        "4. фунцкия, которая возвращает список всех строк из файла (без символов переноса строки);"
      ],
      "metadata": {
        "id": "gSO7JQCqIrTe"
      }
    },
    {
      "cell_type": "code",
      "source": [
        "def read_str_lst(f_name):\n",
        "  with open(f_name, 'r') as f:\n",
        "    s = f.read().split('\\n')\n",
        "  return s\n",
        "\n",
        "print(read_str_lst('/content/drive/MyDrive/Python_KDA/ex.txt'))"
      ],
      "metadata": {
        "colab": {
          "base_uri": "https://localhost:8080/"
        },
        "id": "8RRalvCaIuaT",
        "outputId": "e0509c8a-8ee1-4a3a-ff13-999f940a4986"
      },
      "execution_count": 24,
      "outputs": [
        {
          "output_type": "stream",
          "name": "stdout",
          "text": [
            "['A/B testing is a shorthand for a simple randomized controlled experiment, in which a number of samples (e.g. A and B) of a single vector-variable are compared. ', 'A/B tests are widely considered the simplest form of controlled experiment, especially when they only involve two variants. ', 'However, by adding more variants to the test, its complexity grows.']\n"
          ]
        }
      ]
    },
    {
      "cell_type": "markdown",
      "source": [
        "5. функция, которая построчно выводит все строки в файле, итерируя по самому\n",
        "файлу (строки должны быть разделены одним символом \\n);"
      ],
      "metadata": {
        "id": "5ESi8IR7JwIH"
      }
    },
    {
      "cell_type": "code",
      "source": [
        "def read_f(f_name):\n",
        "  with open(f_name, 'r') as f:\n",
        "    for line in f:\n",
        "      print(line.rstrip('\\n'))\n",
        "\n",
        "read_f('/content/drive/MyDrive/Python_KDA/ex.txt')"
      ],
      "metadata": {
        "colab": {
          "base_uri": "https://localhost:8080/"
        },
        "id": "1DJPQh8PJ4YF",
        "outputId": "48700ce8-40be-485c-a19e-47d62584bb37"
      },
      "execution_count": 26,
      "outputs": [
        {
          "output_type": "stream",
          "name": "stdout",
          "text": [
            "A/B testing is a shorthand for a simple randomized controlled experiment, in which a number of samples (e.g. A and B) of a single vector-variable are compared. \n",
            "A/B tests are widely considered the simplest form of controlled experiment, especially when they only involve two variants. \n",
            "However, by adding more variants to the test, its complexity grows.\n"
          ]
        }
      ]
    },
    {
      "cell_type": "markdown",
      "source": [
        "6. функция, которая возвращает все строчки из файла, соединённые в одну строку\n",
        "через пробел, а не через символ \\n;\n"
      ],
      "metadata": {
        "id": "jH5UWwmJKaf8"
      }
    },
    {
      "cell_type": "code",
      "source": [
        "def f_to_str_(f_name):\n",
        "  with open(f_name, 'r') as f:\n",
        "      s = ' '.join(f.readlines()).replace('\\n','')\n",
        "  return s\n",
        "\n",
        "print(f_to_str_('/content/drive/MyDrive/Python_KDA/ex.txt'))"
      ],
      "metadata": {
        "colab": {
          "base_uri": "https://localhost:8080/"
        },
        "id": "99QDr1XlKdCw",
        "outputId": "f36bab5b-a464-4691-a886-334c98577312"
      },
      "execution_count": 58,
      "outputs": [
        {
          "output_type": "stream",
          "name": "stdout",
          "text": [
            "A/B testing is a shorthand for a simple randomized controlled experiment, in which a number of samples (e.g. A and B) of a single vector-variable are compared. A/B tests are widely considered the simplest form of controlled experiment, especially when they only involve two variants. However, by adding more variants to the test, its complexity grows.\n"
          ]
        }
      ]
    },
    {
      "cell_type": "markdown",
      "source": [
        "**Примечание.** В качестве аргумента для каждой из следующих функций подаётся строка."
      ],
      "metadata": {
        "id": "O54swjvWLISX"
      }
    },
    {
      "cell_type": "markdown",
      "source": [
        "7. функция, которая возвращает строку без лишних пробелов, символов \\n или \\t\n",
        "в конце;\n"
      ],
      "metadata": {
        "id": "hP2s047YLO4S"
      }
    },
    {
      "cell_type": "code",
      "source": [
        "def edit_str(s):\n",
        "  return s.rstrip()\n",
        "\n",
        "print('Hello World! \\n', 'I am Danya!')\n",
        "print(edit_str('Hello World! \\n\\t'), 'I am Danya!')"
      ],
      "metadata": {
        "colab": {
          "base_uri": "https://localhost:8080/"
        },
        "id": "r9-Vk0wZLNlp",
        "outputId": "3bbddb28-8dd8-4f1f-d984-60c313970f75"
      },
      "execution_count": 59,
      "outputs": [
        {
          "output_type": "stream",
          "name": "stdout",
          "text": [
            "Hello World! \n",
            " I am Danya!\n",
            "Hello World! I am Danya!\n"
          ]
        }
      ]
    },
    {
      "cell_type": "markdown",
      "source": [
        "8. функция, которая убирает все знаки «!», «?», «.» из конца строки;"
      ],
      "metadata": {
        "id": "QacSgl5dL-8K"
      }
    },
    {
      "cell_type": "code",
      "source": [
        "def edit_str_(s):\n",
        "  return s.rstrip('!?.')\n",
        "\n",
        "print('Hello World!.!?', 'I am Danya!')\n",
        "print(edit_str_('Hello World!.!?'), 'I am Danya!')"
      ],
      "metadata": {
        "colab": {
          "base_uri": "https://localhost:8080/"
        },
        "id": "hdx8juHdMCCR",
        "outputId": "63c620a7-9cd4-45c0-c153-1eca994fdd09"
      },
      "execution_count": 61,
      "outputs": [
        {
          "output_type": "stream",
          "name": "stdout",
          "text": [
            "Hello World!.!? I am Danya!\n",
            "Hello World I am Danya!\n"
          ]
        }
      ]
    },
    {
      "cell_type": "markdown",
      "source": [
        "Примечание. В качестве аргумента для каждой из следующих функций подаётся сначала имя файла, а затем какая-то ещё переменная. Максимально желательно после записи информации в файл его закрывать с помощью .close() или\n",
        "использовать окружение with."
      ],
      "metadata": {
        "id": "p4F0xk4jQhMi"
      }
    },
    {
      "cell_type": "markdown",
      "source": [
        "9. функция, которая записывает в файл строку, которая подаётся в качестве аргумента;"
      ],
      "metadata": {
        "id": "i_1VRtl3Q1Dg"
      }
    },
    {
      "cell_type": "code",
      "source": [
        "def write_str_to_f(f_name, s):\n",
        "  with open(f_name,'w', encoding = 'utf-8') as f:\n",
        "    f.write(s)\n",
        "\n",
        "write_str_to_f('/content/drive/MyDrive/Python_KDA/out.txt', 'ППШ')"
      ],
      "metadata": {
        "id": "OTYedHKtQ5To"
      },
      "execution_count": 62,
      "outputs": []
    },
    {
      "cell_type": "markdown",
      "source": [
        "10. функция, которая записывает в файл строку, которая подаётся в качестве аргумента, и дополнительный символ переноса на следующую строку;"
      ],
      "metadata": {
        "id": "1U2itrwBRpmC"
      }
    },
    {
      "cell_type": "code",
      "source": [
        "def write_str_to_f_(f_name, s):\n",
        "  with open(f_name,'w', encoding = 'utf-8') as f:\n",
        "    f.write(s+'\\n')\n",
        "\n",
        "write_str_to_f_('/content/drive/MyDrive/Python_KDA/out.txt', 'ППШ')"
      ],
      "metadata": {
        "id": "M-CC8kdbRtZ5"
      },
      "execution_count": 68,
      "outputs": []
    },
    {
      "cell_type": "markdown",
      "source": [
        "11. функция, которая записывает в файл все строки из списка, который подаётся в\n",
        "качестве аргумента;"
      ],
      "metadata": {
        "id": "h_z95D5bSt6B"
      }
    },
    {
      "cell_type": "code",
      "source": [
        "def write_lst_to_f_(f_name, L1):\n",
        "  with open(f_name, 'w') as f:\n",
        "    f.writelines(L1)\n",
        "\n",
        "write_lst_to_f_('/content/drive/MyDrive/Python_KDA/out.txt', ['Hello World\\n', 'Goodbye\\n', 'See you soon'])"
      ],
      "metadata": {
        "id": "N7mVJqrhTYsY"
      },
      "execution_count": 71,
      "outputs": []
    },
    {
      "cell_type": "markdown",
      "source": [
        "Примечание. В дальнейших функциях аргументы на вход подробно расписаны.\n"
      ],
      "metadata": {
        "id": "c4l9il1KUUnO"
      }
    },
    {
      "cell_type": "markdown",
      "source": [
        "12. функция, которая принимает на вход сначала имя первого файла, затем имя\n",
        "второго файла, а после записывает содержимое из первого файла во второй\n",
        "файл с помощью функции print()."
      ],
      "metadata": {
        "id": "ro09v1ylUYMN"
      }
    },
    {
      "cell_type": "code",
      "source": [
        "def f_to_g(f_name, g_name):\n",
        "  with open(f_name, 'r') as f, open(g_name, 'w') as g:\n",
        "    for line in f:\n",
        "      print(line, end = ' ', file = g)\n",
        "\n",
        "f_to_g('/content/drive/MyDrive/Python_KDA/ex.txt', '/content/drive/MyDrive/Python_KDA/out.txt')"
      ],
      "metadata": {
        "id": "lyi-HOjWUkKd"
      },
      "execution_count": 83,
      "outputs": []
    },
    {
      "cell_type": "markdown",
      "source": [
        "13. функция, которая принимает на вход сначала имя первого файла, затем имя\n",
        "второго файла, а после записывает во второй файл все строки, которые начинаются с подстроки «hello», а заканчиваются на подстроку «world». Используйте\n",
        "методы .startswith() и .endswith()."
      ],
      "metadata": {
        "id": "pRVVqTIqVlt2"
      }
    },
    {
      "cell_type": "code",
      "source": [
        "def f_to_g_hw(f_name, g_name):\n",
        "  scanning = False\n",
        "  with open(f_name, 'r') as f, open(g_name, 'w') as g:\n",
        "    for line in f:\n",
        "      line1 = line.strip()\n",
        "      if line1.startswith('hello') and line1.endswith('world'):\n",
        "        print(line, file = g)\n",
        "\n",
        "f_to_g_hw('/content/drive/MyDrive/Python_KDA/ex.txt', '/content/drive/MyDrive/Python_KDA/out.txt')"
      ],
      "metadata": {
        "id": "dvM8w1VQVpYW"
      },
      "execution_count": 84,
      "outputs": []
    },
    {
      "cell_type": "markdown",
      "source": [
        "14. функция, которая создаёт из информации в файле, организованной следующим\n",
        "образом:\n",
        "\n",
        "Имя Питомец Возраст_питомца\n",
        "\n",
        "Петя Кошка 5\n",
        "\n",
        "Ваня Черепашка 50\n",
        "\n",
        "Саша Капибара 1\n",
        "\n",
        "словарь и возвращает его. Словарь должен быть организован так:\n",
        "\n",
        "{\"Петя\": (\"Кошка\", 5),\n",
        "\n",
        "\"Ваня\": (\"Черепашка\", 50),\n",
        "\n",
        "\"Саша\": (\"Капибара\", 1)}\n"
      ],
      "metadata": {
        "id": "BMzEo-zrYGtk"
      }
    },
    {
      "cell_type": "code",
      "source": [
        "def work_with_file(f_name):\n",
        "  children_pets = {}\n",
        "  with open(f_name, 'r') as f:\n",
        "    for line in f:\n",
        "      if line.startswith('Имя'):\n",
        "        continue\n",
        "      L = line.split()\n",
        "      value = (L[1], L[2])\n",
        "      children_pets[L[0]] = value\n",
        "  print(children_pets)\n",
        "\n",
        "work_with_file('/content/drive/MyDrive/Python_KDA/ex.txt')"
      ],
      "metadata": {
        "colab": {
          "base_uri": "https://localhost:8080/"
        },
        "id": "Ysdd1TFKYiYI",
        "outputId": "2a1d6969-f09d-4411-841e-3919e15b4ade"
      },
      "execution_count": 95,
      "outputs": [
        {
          "output_type": "stream",
          "name": "stdout",
          "text": [
            "{'Петя': ('Кошка', '5'), 'Ваня': ('Черепашка', '50'), 'Саша': ('Капибара', '1')}\n"
          ]
        }
      ]
    }
  ]
}