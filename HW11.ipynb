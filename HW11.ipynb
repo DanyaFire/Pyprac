{
  "nbformat": 4,
  "nbformat_minor": 0,
  "metadata": {
    "colab": {
      "provenance": [],
      "authorship_tag": "ABX9TyO2au667a4UMJu+FoRt+/fr",
      "include_colab_link": true
    },
    "kernelspec": {
      "name": "python3",
      "display_name": "Python 3"
    },
    "language_info": {
      "name": "python"
    }
  },
  "cells": [
    {
      "cell_type": "markdown",
      "metadata": {
        "id": "view-in-github",
        "colab_type": "text"
      },
      "source": [
        "<a href=\"https://colab.research.google.com/github/DanyaFire/Pyprac/blob/main/HW11.ipynb\" target=\"_parent\"><img src=\"https://colab.research.google.com/assets/colab-badge.svg\" alt=\"Open In Colab\"/></a>"
      ]
    },
    {
      "cell_type": "markdown",
      "source": [
        "# Динамическая типизация"
      ],
      "metadata": {
        "id": "2GfIxr2jSBH1"
      }
    },
    {
      "cell_type": "markdown",
      "source": [
        "**Задание 1**\n",
        "\n",
        "Укажите, какой результат выведет данная программа. Если программа упадет с\n",
        "ошибкой, то в ответ запишите 0.\n",
        "\n",
        "Ответ(предварительный): 108"
      ],
      "metadata": {
        "id": "cGzk2wb9SVNX"
      }
    },
    {
      "cell_type": "code",
      "execution_count": null,
      "metadata": {
        "colab": {
          "base_uri": "https://localhost:8080/"
        },
        "id": "eMSFGagWR_93",
        "outputId": "91ab6ca9-a5af-4ae2-97b2-abee5fac8d82"
      },
      "outputs": [
        {
          "output_type": "stream",
          "name": "stdout",
          "text": [
            "108\n"
          ]
        }
      ],
      "source": [
        "R = [45, 84, 10, 58]\n",
        "A = R\n",
        "R[0] = 54\n",
        "print(A[0] + R[0])"
      ]
    },
    {
      "cell_type": "markdown",
      "source": [
        "**Задача 2**\n",
        "\n",
        "Напишите программу, которая считывает 5 чисел, добавляет их в список, а затем\n",
        "создаёт копии этого списка несколькими вариантами:\n",
        "• срезом;\n",
        "• методом copy;\n",
        "• с помощью поверхностного копирования из библиотеки copy;\n",
        "• с помощью глубоко уровневого копирования из библиотеки copy;\n",
        "• приведением списка к типу список с помощью встроенной функции.\n",
        "В ответе через пробел запишите сначала количество созданных копий массивов,\n",
        "а затем сумму чисел в изначальном массиве для входных данных 5, 6, 7, 8, 9."
      ],
      "metadata": {
        "id": "ptM_OtSxSlU0"
      }
    },
    {
      "cell_type": "code",
      "source": [
        "import copy\n",
        "\n",
        "base = [int(i) for i in input().split()]\n",
        "print(base, '\\n')\n",
        "\n",
        "a = base[:]\n",
        "print(base)\n",
        "print(a, '\\n')\n",
        "\n",
        "b = base.copy()\n",
        "print(base)\n",
        "print(b, '\\n')\n",
        "\n",
        "c = copy.copy(base)\n",
        "print(base)\n",
        "print(c, '\\n')\n",
        "\n",
        "d = copy.deepcopy(base)\n",
        "print(base)\n",
        "print(d, '\\n')\n",
        "\n",
        "e = list(base)\n",
        "print(base)\n",
        "print(e, '\\n')\n",
        "\n",
        "print(5, sum(base), sep = ' ')"
      ],
      "metadata": {
        "colab": {
          "base_uri": "https://localhost:8080/"
        },
        "id": "yFqM1AnQSw-F",
        "outputId": "22823529-9b35-4a84-85b0-36672f04841e"
      },
      "execution_count": null,
      "outputs": [
        {
          "output_type": "stream",
          "name": "stdout",
          "text": [
            "5 6 7 8 9\n",
            "[5, 6, 7, 8, 9] \n",
            "\n",
            "[5, 6, 7, 8, 9]\n",
            "[5, 6, 7, 8, 9] \n",
            "\n",
            "[5, 6, 7, 8, 9]\n",
            "[5, 6, 7, 8, 9] \n",
            "\n",
            "[5, 6, 7, 8, 9]\n",
            "[5, 6, 7, 8, 9] \n",
            "\n",
            "[5, 6, 7, 8, 9]\n",
            "[5, 6, 7, 8, 9] \n",
            "\n",
            "[5, 6, 7, 8, 9]\n",
            "[5, 6, 7, 8, 9] \n",
            "\n",
            "5 35\n"
          ]
        }
      ]
    },
    {
      "cell_type": "markdown",
      "source": [
        "**Задача 3**\n",
        "\n",
        "Укажите, какой результат выведет данная программа. Если программа упадет с\n",
        "ошибкой, то в ответ запишите 0.\n",
        "\n",
        "Ответ(до запуска):  [ [890, 99, 109, 76], [890, 99, 109, 76], [890, 99, 109, 76], [890, 99, 109, 76] ]; тогда 890 + 76 = 966"
      ],
      "metadata": {
        "id": "e08piNzZgezv"
      }
    },
    {
      "cell_type": "code",
      "source": [
        "AR = [[90, 99, 109, 119]] * 4\n",
        "AR[0][0], AR[3][3] = 890, 76\n",
        "print(AR[1][0] + AR[2][3])"
      ],
      "metadata": {
        "colab": {
          "base_uri": "https://localhost:8080/"
        },
        "id": "h_S2y_52RRVq",
        "outputId": "878b08f9-b15b-4801-a5b5-c157f8dccb07"
      },
      "execution_count": null,
      "outputs": [
        {
          "output_type": "stream",
          "name": "stdout",
          "text": [
            "966\n"
          ]
        }
      ]
    },
    {
      "cell_type": "markdown",
      "source": [
        "**Задача 4**\n",
        "\n",
        "У Александра Романовича есть много животных, и он записал всех животных,\n",
        "которые у него есть, в список. Напишите программу, которая превращает список\n",
        "животных ниже в словарь формата a = {\"animal\": количество животных}.\n",
        "animals = [\"cat\", \"cat\", \"dog\", \"dog\", \"bird\",\n",
        "\"capybara\", \"capybara\", \"capybara\"].\n",
        "\n",
        "В памяти программы должны храниться как и изначальный список, так и конечный словарь. На экран через пробел выведите сначала сумму количеств ссылок на\n",
        "каждую строку типа \"animal\", а затем сумму количеств ссылок на числа 1, 2 и 3."
      ],
      "metadata": {
        "id": "8QzXopDEXw8L"
      }
    },
    {
      "cell_type": "code",
      "source": [
        "import sys\n",
        "\n",
        "def refcounterval(dicti):\n",
        "  counter = 0\n",
        "  for i in dicti.values():\n",
        "    counter += sys.getrefcount(i)\n",
        "  return counter\n",
        "\n",
        "def refcounterkeys(dicti):\n",
        "  counter = 0\n",
        "  for i in dicti.keys():\n",
        "    counter += sys.getrefcount(i)\n",
        "  return counter\n",
        "\n",
        "animals =  [\"cat\", \"cat\", \"dog\", \"dog\", \"bird\", \"capybara\", \"capybara\", \"capybara\"]\n",
        "animals_dictionary = {i : animals.count(i) for i in animals}\n",
        "print(animals_dictionary)\n",
        "\n",
        "print(f'Сумма количеств ссылок на каждую строку в словаре: {refcounterkeys(animals_dictionary)}', f'Сумма количеств ссылок на значения, то есть на цифры 1, 2, 3 в словаре: {refcounterval(animals_dictionary)}', sep = '\\n')"
      ],
      "metadata": {
        "colab": {
          "base_uri": "https://localhost:8080/"
        },
        "id": "eOwCwjlEYG7w",
        "outputId": "9d0fd909-5148-4c51-f824-855389f1471e"
      },
      "execution_count": null,
      "outputs": [
        {
          "output_type": "stream",
          "name": "stdout",
          "text": [
            "{'cat': 2, 'dog': 2, 'bird': 1, 'capybara': 3}\n",
            "Сумма количеств ссылок на каждую строку в словаре: 59\n",
            "Сумма количеств ссылок на значения, то есть на цифры 1, 2, 3 в словаре: 4000042014\n"
          ]
        }
      ]
    },
    {
      "cell_type": "markdown",
      "source": [
        "**Задача 5**\n",
        "\n",
        "Александр Романович обожает таскать в своём рюкзаке backpack переменные, и\n",
        "ему интересно, какие из переменных являются ссылками на один и тот же объект, а\n",
        "какие являются отдельными объектами.\n",
        "backpack = [\"capybara\", \"capyraba\", \"capyba\", \"capyba\", \"capybara\",\n",
        "2999, 2999, \"capybara\", [7, 7, 7], [7, 7, 7], [7, 7, 7],\n",
        "[7, 7, 7]] + [[8, 8]] * 5\n",
        "\n",
        "Определите количество пар элементов списка, которые ссылаются на один и тот\n",
        "же объект, и количество пар элементов списка, которые равны между собой. Под\n",
        "парами элементов в этом списке подразумеваются два элемента, стоящие на разных\n",
        "индексах. Пары (backpack[0], backpack[1]) и (backpack[1], backpack[0]) считаются за одинаковую пару. В ответе запишите два искомых значения через пробел."
      ],
      "metadata": {
        "id": "Iw05FlxUdS4B"
      }
    },
    {
      "cell_type": "code",
      "source": [
        "def massrefcount(a):\n",
        "  counter = 0\n",
        "  for i in range(len(a)):\n",
        "    for j in range(len(a)):\n",
        "      if (a[i] is a[j]) and (i < j):\n",
        "        counter += 1\n",
        "  return counter\n",
        "\n",
        "def massrefcounteq(a):\n",
        "  counter = 0\n",
        "  for i in range(len(a)):\n",
        "    for j in range(len(a)):\n",
        "      if (a[i] == a[j]) and (i < j):\n",
        "        counter += 1\n",
        "  return counter\n",
        "\n",
        "backpack = [\"capybara\", \"capyraba\", \"capyba\", \"capyba\", \"capybara\", 2999, 2999, \"capybara\", [7, 7, 7], [7, 7, 7], [7, 7, 7], [7, 7, 7]] + [[8, 8]] * 5\n",
        "print(massrefcount(backpack), massrefcounteq(backpack))"
      ],
      "metadata": {
        "id": "DB_wqpxWdYMQ",
        "colab": {
          "base_uri": "https://localhost:8080/"
        },
        "outputId": "a9dd7b3b-9c6f-4aea-e162-ac0b3ae7426e"
      },
      "execution_count": 11,
      "outputs": [
        {
          "output_type": "stream",
          "name": "stdout",
          "text": [
            "15 21\n"
          ]
        }
      ]
    },
    {
      "cell_type": "markdown",
      "source": [
        "**Задача 6**\n",
        "\n",
        "Помогите Александру Романовичу приготовить рекурсивный салат «Цезарь». Салат должен состоять из следующих ингредиентов:\n",
        "\n",
        "• lettuce;\n",
        "\n",
        "• chicken;\n",
        "\n",
        "• cheese;\n",
        "\n",
        "• sauce;\n",
        "\n",
        "• tomatoes;\n",
        "\n",
        "• croutons.\n",
        "\n",
        "Ингредиенты в салат добавляются в такой же очерёдности, как указано в списке\n",
        "выше. Из-за того, что салат рекурсивный, то в последнюю очередь в салат добавляется сам салат «Цезарь». После первой итерации Александр Романович понял, что\n",
        "забыл добавить соль (\"salt\") и перец (\"pepper\") в салат. Добавьте в салат нужные\n",
        "специи, начиная со 2-го обращения к списку. В качестве ответа через пробел запишите, какие ингредиенты лежат на 4-м индексе 127-го обращения и на последнем\n",
        "индексе 2-го обращения рекурсивного салата"
      ],
      "metadata": {
        "id": "KhqqEvRMt936"
      }
    },
    {
      "cell_type": "code",
      "source": [
        "salad = ['lettuce', 'chicken', 'cheese', 'sauce', 'tomatoes', 'croutons']\n",
        "salad.append(salad)\n",
        "salad[6].append('salt')\n",
        "salad[6].append('pepper')\n",
        "print(salad[4], salad[-1], sep = ' ')"
      ],
      "metadata": {
        "colab": {
          "base_uri": "https://localhost:8080/"
        },
        "id": "5dOO7kA0uJeK",
        "outputId": "47d681af-5a91-46f7-f5ab-40c6957e3194"
      },
      "execution_count": 30,
      "outputs": [
        {
          "output_type": "stream",
          "name": "stdout",
          "text": [
            "tomatoes pepper\n"
          ]
        }
      ]
    }
  ]
}