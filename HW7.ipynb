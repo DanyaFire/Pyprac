{
  "nbformat": 4,
  "nbformat_minor": 0,
  "metadata": {
    "colab": {
      "provenance": [],
      "authorship_tag": "ABX9TyMP5zHm9VQ0xY8VN2B7b7uz",
      "include_colab_link": true
    },
    "kernelspec": {
      "name": "python3",
      "display_name": "Python 3"
    },
    "language_info": {
      "name": "python"
    }
  },
  "cells": [
    {
      "cell_type": "markdown",
      "metadata": {
        "id": "view-in-github",
        "colab_type": "text"
      },
      "source": [
        "<a href=\"https://colab.research.google.com/github/DanyaFire/Pyprac/blob/main/HW7.ipynb\" target=\"_parent\"><img src=\"https://colab.research.google.com/assets/colab-badge.svg\" alt=\"Open In Colab\"/></a>"
      ]
    },
    {
      "cell_type": "markdown",
      "source": [
        "**Задача 1**\n",
        "\n",
        "Вы пришли на собеседование в лучшую IT-компанию в мире. На собеседовании\n",
        "Вы и один из кандидатов написали одну и ту же программу, поэтому вам устроили\n",
        "дополнительное испытание: сделать программу более эффективной. Как известно,\n",
        "чем код короче, тем быстрее будет работать программа . Ваша задача записать сумму\n",
        "квадратов чисел от 1 до 100 включительно в одну строчку.\n"
      ],
      "metadata": {
        "id": "ihVT_vOVzpw1"
      }
    },
    {
      "cell_type": "code",
      "execution_count": 4,
      "metadata": {
        "colab": {
          "base_uri": "https://localhost:8080/"
        },
        "id": "8DMNdod3zmC0",
        "outputId": "fc2e0a51-d61d-4a1e-d83a-79f38af3e4bb"
      },
      "outputs": [
        {
          "output_type": "stream",
          "name": "stdout",
          "text": [
            "338350\n"
          ]
        }
      ],
      "source": [
        "print(sum([x ** 2 for x in range(1,101)]))"
      ]
    },
    {
      "cell_type": "markdown",
      "source": [
        "**Задача 2**\n",
        "\n",
        "Ваш компьютер взломали, поменяли пароль, но оставили подсказку в виде программы. Результат вывода программы и есть Ваш пароль:\n",
        "\n",
        "Так как Ваш компьютер заблокирован, решить эту задачку можно только методом\n",
        "пристального взгляда.\n",
        "\n",
        "Ответ: 08162432"
      ],
      "metadata": {
        "id": "_MKTNnuO0W_g"
      }
    },
    {
      "cell_type": "code",
      "source": [
        "a = [i for i in range(0, 20, 2)]\n",
        "b = [x*2 for x in a]\n",
        "c = b[::2]\n",
        "print(c)"
      ],
      "metadata": {
        "collapsed": true,
        "id": "IqCrNTp00xZV"
      },
      "execution_count": null,
      "outputs": []
    },
    {
      "cell_type": "markdown",
      "source": [
        "**Задача 3**\n",
        "\n",
        "Напишите генератор, который считает количество четных чисел на промежутке\n",
        "от 1 до 20 включительно. В ответе запишите это количество."
      ],
      "metadata": {
        "id": "H-zIC2j91zCb"
      }
    },
    {
      "cell_type": "code",
      "source": [
        "print(f'Решение 1: {len([x for x in range(2,21,2)])}')\n",
        "print(f'Решение 2: {len([x for x in range(1,21) if x % 2 == 0])}')"
      ],
      "metadata": {
        "colab": {
          "base_uri": "https://localhost:8080/"
        },
        "id": "wkxeFWH519L4",
        "outputId": "2822cc3d-c072-4061-f2d6-c137f8cef643"
      },
      "execution_count": 10,
      "outputs": [
        {
          "output_type": "stream",
          "name": "stdout",
          "text": [
            "Решение 1: 10\n",
            "Решение 2: 10\n"
          ]
        }
      ]
    },
    {
      "cell_type": "markdown",
      "source": [
        "**Задача 4**\n",
        "\n",
        "Напишите генератор, который идет по массиву с шагом 2, считая количество четных чисел. В ответе запишите количество таких чисел для массива [64, 8, 72, 1, 56,\n",
        "78, 7, 59, 9, 80]."
      ],
      "metadata": {
        "id": "Kmd9AzOC2rDJ"
      }
    },
    {
      "cell_type": "code",
      "source": [
        "print(len([x for x in [64, 8, 72, 1, 56, 78, 7, 59, 9, 80][::2] if x % 2 == 0]))"
      ],
      "metadata": {
        "colab": {
          "base_uri": "https://localhost:8080/"
        },
        "id": "v8hW8xPb2xkk",
        "outputId": "fa39f6c0-bb61-4af3-a9c6-84334e286d34"
      },
      "execution_count": 17,
      "outputs": [
        {
          "output_type": "stream",
          "name": "stdout",
          "text": [
            "3\n"
          ]
        }
      ]
    },
    {
      "cell_type": "markdown",
      "source": [
        "**Задача 5**\n",
        "\n",
        "Напишите генератор, который возвращает все числа от 1 до 1000, которые делятся\n",
        "на 7 или на 11 без остатка. В ответе укажите количество таких чисел"
      ],
      "metadata": {
        "id": "2-MvHfGA3HAA"
      }
    },
    {
      "cell_type": "code",
      "source": [
        "print(len([i for i in range(1,1001) if i % 7 == 0 or i % 11 == 0]))"
      ],
      "metadata": {
        "colab": {
          "base_uri": "https://localhost:8080/"
        },
        "id": "Bdlf538l4hqr",
        "outputId": "26c0d319-9ff1-4d52-83e3-2c2f1ae1d257"
      },
      "execution_count": 13,
      "outputs": [
        {
          "output_type": "stream",
          "name": "stdout",
          "text": [
            "220\n"
          ]
        }
      ]
    }
  ]
}