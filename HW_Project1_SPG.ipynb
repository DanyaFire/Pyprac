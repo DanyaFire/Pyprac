{
  "nbformat": 4,
  "nbformat_minor": 0,
  "metadata": {
    "colab": {
      "provenance": [],
      "authorship_tag": "ABX9TyMsDM7ZUaph5pgZKUtgeYRq",
      "include_colab_link": true
    },
    "kernelspec": {
      "name": "python3",
      "display_name": "Python 3"
    },
    "language_info": {
      "name": "python"
    }
  },
  "cells": [
    {
      "cell_type": "markdown",
      "metadata": {
        "id": "view-in-github",
        "colab_type": "text"
      },
      "source": [
        "<a href=\"https://colab.research.google.com/github/DanyaFire/Pyprac/blob/main/HW_Project1_SPG.ipynb\" target=\"_parent\"><img src=\"https://colab.research.google.com/assets/colab-badge.svg\" alt=\"Open In Colab\"/></a>"
      ]
    },
    {
      "cell_type": "markdown",
      "source": [
        "В данном проекте реализован умный генератор паролей, который может сгенерировать любой пароль из любых символов и любой длины > 7 (иначе он будет не очень безопасным)."
      ],
      "metadata": {
        "id": "qseou0H6kunH"
      }
    },
    {
      "cell_type": "markdown",
      "source": [
        "Подключим необходимые библиотеки:"
      ],
      "metadata": {
        "id": "Vi67P2R8lEcH"
      }
    },
    {
      "cell_type": "code",
      "execution_count": 1,
      "metadata": {
        "id": "Zwg3_58NkkVC"
      },
      "outputs": [],
      "source": [
        "from random import choices\n",
        "import string"
      ]
    },
    {
      "cell_type": "markdown",
      "source": [
        "Реализуем функции, которые будут обрабатывать входные данные."
      ],
      "metadata": {
        "id": "Z3Jeb3s8lLXf"
      }
    },
    {
      "cell_type": "markdown",
      "source": [
        "В следующей функции обрабатываем длину пароля:"
      ],
      "metadata": {
        "id": "JEFd-FXzlTDP"
      }
    },
    {
      "cell_type": "code",
      "source": [
        "def inp_n(n):\n",
        "    while n < 8:\n",
        "        print('Пароль должен состоять минимум из 8 символов!')\n",
        "        n = int(input())\n",
        "    return n"
      ],
      "metadata": {
        "id": "zYecO5inlbC2"
      },
      "execution_count": 2,
      "outputs": []
    },
    {
      "cell_type": "markdown",
      "source": [
        "Далее обрабатываем запрос. Мы выбираем число от 1 до 7 в зависимости оттого, пароль из каких символов мы хотим наблюдать.\n",
        "1. Только цифры\n",
        "2. Только буквы\n",
        "3. Только специальные символы\n",
        "4. Цифры и буквы\n",
        "5. Цифры и специальные символы\n",
        "6. Буквы и специальные символы\n",
        "7. Цифры, буквы и специальные символы"
      ],
      "metadata": {
        "id": "tWpjVADYlcrG"
      }
    },
    {
      "cell_type": "code",
      "source": [
        "def inp_k(k):\n",
        "    while k < 1 or k > 7:\n",
        "        print('Выберите цифру от 1 до 7, которая определит, из каких символов будет состоять пароль!')\n",
        "        k = int(input())\n",
        "    return k"
      ],
      "metadata": {
        "id": "YrNh8pYll2kP"
      },
      "execution_count": 3,
      "outputs": []
    },
    {
      "cell_type": "markdown",
      "source": [
        "Далее пропишем функции, которые будут генерировать различные алфавиты, из которых мы будем делать выборки наших паролей."
      ],
      "metadata": {
        "id": "eouoH2Inl5vv"
      }
    },
    {
      "cell_type": "markdown",
      "source": [
        "Генератор цифр:"
      ],
      "metadata": {
        "id": "mRZR8dgimHRm"
      }
    },
    {
      "cell_type": "code",
      "source": [
        "def gen_fig(n):\n",
        "    return [str(i) for i in range(10)]"
      ],
      "metadata": {
        "id": "jr35p0ZKmJjG"
      },
      "execution_count": 4,
      "outputs": []
    },
    {
      "cell_type": "markdown",
      "source": [
        "Генератор букв:"
      ],
      "metadata": {
        "id": "wtxYuUevmLIf"
      }
    },
    {
      "cell_type": "code",
      "source": [
        "def gen_letters(n):\n",
        "    return list(string.ascii_letters)"
      ],
      "metadata": {
        "id": "1UlIiC2mmNPl"
      },
      "execution_count": 5,
      "outputs": []
    },
    {
      "cell_type": "markdown",
      "source": [
        "Генератор специальных символов:"
      ],
      "metadata": {
        "id": "jbFksElvmO1P"
      }
    },
    {
      "cell_type": "code",
      "source": [
        "def gen_spec_sym(n):\n",
        "    return list(string.punctuation)"
      ],
      "metadata": {
        "id": "Jb53k5LumRom"
      },
      "execution_count": 6,
      "outputs": []
    },
    {
      "cell_type": "markdown",
      "source": [
        "Пропишем функцию, которая будет печатать пароль после выполнения всей программы:"
      ],
      "metadata": {
        "id": "KoYPf60dmTWe"
      }
    },
    {
      "cell_type": "code",
      "source": [
        "def print_password(a):\n",
        "    print('Ваш пароль:', end = '')\n",
        "    for elem in a:\n",
        "        print(elem, end = \"\")"
      ],
      "metadata": {
        "id": "9eGJWFxQmZD2"
      },
      "execution_count": 7,
      "outputs": []
    },
    {
      "cell_type": "markdown",
      "source": [
        "Теперь пропишем связывающую функцию, которая в зависимости от нашего запроса:"
      ],
      "metadata": {
        "id": "9eGFFzCNmaf3"
      }
    },
    {
      "cell_type": "code",
      "source": [
        "def generate_password(n, p):\n",
        "    match(p):\n",
        "        case 1: a = gen_fig(n)\n",
        "        case 2: a = gen_letters(n)\n",
        "        case 3: a = gen_spec_sym(n)\n",
        "        case 4: a = gen_fig(n) + gen_letters(n)\n",
        "        case 5: a = gen_fig(n) + gen_spec_sym(n)\n",
        "        case 6: a = gen_letters(n) + gen_spec_sym(n)\n",
        "        case 7: a = gen_fig(n) + gen_letters(n) + gen_spec_sym(n)\n",
        "\n",
        "    print_password(choices(a, weights = None, k = n))"
      ],
      "metadata": {
        "id": "R28bNYIZmmaO"
      },
      "execution_count": 8,
      "outputs": []
    },
    {
      "cell_type": "markdown",
      "source": [
        "На данный момент весь код изложен, проверим, как он работает.\n",
        "\n",
        "Пример: мы хотим пароль длины n = 17, который будет состоять из цифр, букв и специальных символов."
      ],
      "metadata": {
        "id": "EdJLqkihmqBH"
      }
    },
    {
      "cell_type": "code",
      "source": [
        "n = inp_n(int(input('Введите желаемую длину пароля: ')))\n",
        "k = inp_k(int(input('Из каких символов будет состоять пароль?\\n 1. Только цифры\\n 2. Только буквы\\n 3. Только специальные символы\\n 4. Цифры и буквы\\n 5. Цифры и специальные символы\\n 6. Буквы и специальные символы\\n 7. Цифры, буквы и специальные символы\\n')))\n",
        "\n",
        "generate_password(n,k)"
      ],
      "metadata": {
        "colab": {
          "base_uri": "https://localhost:8080/"
        },
        "id": "Nw7cp3E4m8nu",
        "outputId": "3b11ddaa-f758-47a7-cb22-ae29ed736be7"
      },
      "execution_count": 9,
      "outputs": [
        {
          "output_type": "stream",
          "name": "stdout",
          "text": [
            "Введите желаемую длину пароля: 17\n",
            "Из каких символов будет состоять пароль?\n",
            " 1. Только цифры\n",
            " 2. Только буквы\n",
            " 3. Только специальные символы\n",
            " 4. Цифры и буквы\n",
            " 5. Цифры и специальные символы\n",
            " 6. Буквы и специальные символы\n",
            " 7. Цифры, буквы и специальные символы\n",
            "7\n",
            "Ваш пароль:y/5sKC[K^Sn,39o]A"
          ]
        }
      ]
    }
  ]
}