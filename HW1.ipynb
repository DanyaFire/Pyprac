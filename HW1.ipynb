{
  "nbformat": 4,
  "nbformat_minor": 0,
  "metadata": {
    "colab": {
      "provenance": [],
      "authorship_tag": "ABX9TyPxhmVAeiIETxu3t1ihjZwx",
      "include_colab_link": true
    },
    "kernelspec": {
      "name": "python3",
      "display_name": "Python 3"
    },
    "language_info": {
      "name": "python"
    }
  },
  "cells": [
    {
      "cell_type": "markdown",
      "metadata": {
        "id": "view-in-github",
        "colab_type": "text"
      },
      "source": [
        "<a href=\"https://colab.research.google.com/github/DanyaFire/Pyprac/blob/main/HW1.ipynb\" target=\"_parent\"><img src=\"https://colab.research.google.com/assets/colab-badge.svg\" alt=\"Open In Colab\"/></a>"
      ]
    },
    {
      "cell_type": "markdown",
      "source": [
        " **Задача 1**\n",
        "\n",
        " Напишите программу, которая принимает на вход поочерёдно 3 строки и выводит  их сумму. Ответ запишите для строк ’Программирование ’, ’после ’ и ’школы!’"
      ],
      "metadata": {
        "id": "b0f9LVanzFbC"
      }
    },
    {
      "cell_type": "code",
      "execution_count": 1,
      "metadata": {
        "colab": {
          "base_uri": "https://localhost:8080/"
        },
        "id": "pdGjD8sDzBgX",
        "outputId": "f3c92f72-1f27-4323-bc2a-b0c5c6d2d056"
      },
      "outputs": [
        {
          "output_type": "stream",
          "name": "stdout",
          "text": [
            "Программирование \n",
            "после \n",
            "школы!\n",
            "Программирование после школы!\n"
          ]
        }
      ],
      "source": [
        "a = input()\n",
        "b = input()\n",
        "c = input()\n",
        "print(a + b + c, sep = ' ')"
      ]
    },
    {
      "cell_type": "markdown",
      "source": [
        "**Задача 2**\n",
        "Напишите программу, которая принимает на вход числа a и b и считает арифметическое выражение.\n",
        "В ответе укажите значение выражения для a = 2 и b = 9.\n",
        "P.S. В ответе и задании в последнем слагаемом опечатка. По заданию нужно возвети только b в степень суммы, а в ответе произведение возводится в степень суммы."
      ],
      "metadata": {
        "id": "zwXA0tPpzea6"
      }
    },
    {
      "cell_type": "code",
      "source": [
        "a = int(input())\n",
        "b = int(input())\n",
        "c = 2**8 * a**8 - 2**4*a**4 + 2**2*a**2 - 2*b + 1/2*b**0.5 + ((a*b)**(b + a))/2\n",
        "print(c)"
      ],
      "metadata": {
        "colab": {
          "base_uri": "https://localhost:8080/"
        },
        "id": "HuMJSIl4zulD",
        "outputId": "12a29c2b-5709-46fa-b765-433065641148"
      },
      "execution_count": 5,
      "outputs": [
        {
          "output_type": "stream",
          "name": "stdout",
          "text": [
            "2\n",
            "9\n",
            "32134205104895.5\n"
          ]
        }
      ]
    },
    {
      "cell_type": "markdown",
      "source": [
        "** Задача 3**\n",
        "\n",
        "Укажите, что выведет данная программа, если ввести значения 2 и 3 с клавиатуры. Если программа упадет с ошибкой, то в ответ запишите 0.\n",
        "Понимаю, что получится '23!'."
      ],
      "metadata": {
        "id": "FrCRWDgv1w4H"
      }
    },
    {
      "cell_type": "code",
      "source": [
        "a = input()\n",
        "b = input()\n",
        "print(a + b, end = '!')"
      ],
      "metadata": {
        "colab": {
          "base_uri": "https://localhost:8080/"
        },
        "id": "t8r1BlkK1_M4",
        "outputId": "a883a845-2906-4ea9-b8b7-fa8d2a2b3934"
      },
      "execution_count": 3,
      "outputs": [
        {
          "output_type": "stream",
          "name": "stdout",
          "text": [
            "2\n",
            "3\n",
            "23!"
          ]
        }
      ]
    },
    {
      "cell_type": "markdown",
      "source": [
        "** Задача 4 **\n",
        "Укажите, что выведет данная программа, если ввести значения 123, 456 и 789 с\n",
        "клавиатуры. Если программа упадет с ошибкой, то в ответ запишите 0.\n",
        "\n",
        "Решение перед запуском кода:\n",
        "Ожидание: (123 + 456 - 789) % 10 = 0"
      ],
      "metadata": {
        "id": "bg-DZyIl3Jv2"
      }
    },
    {
      "cell_type": "code",
      "source": [
        "a = int(input())\n",
        "b = int(input())\n",
        "c = int(input())\n",
        "print('(', end = '')\n",
        "print(a, b, sep = ' + ', end = ' - ')\n",
        "print(c, ') % 10', sep = '', end = ' = ')\n",
        "print((a + b - c) % 10)"
      ],
      "metadata": {
        "colab": {
          "base_uri": "https://localhost:8080/"
        },
        "id": "9K1om2YA3R_U",
        "outputId": "b3420403-7810-43e0-fc98-5a100987769d"
      },
      "execution_count": 7,
      "outputs": [
        {
          "output_type": "stream",
          "name": "stdout",
          "text": [
            "123\n",
            "456\n",
            "789\n",
            "(123 + 456 - 789) % 10 = 0\n"
          ]
        }
      ]
    },
    {
      "cell_type": "markdown",
      "source": [
        "** Задача 5 **\n",
        "\n",
        "Напишите программу, которая считывает целое число, после чего на экран выводится следующее и предыдущее целые числа без пробела. В ответе запишите результат работы программы для числа 24"
      ],
      "metadata": {
        "id": "cTjm1ggm2Jaa"
      }
    },
    {
      "cell_type": "code",
      "source": [
        "x = int(input())\n",
        "print(x + 1, x - 1, sep = '')"
      ],
      "metadata": {
        "colab": {
          "base_uri": "https://localhost:8080/"
        },
        "id": "s22PRyuL42nq",
        "outputId": "c8c52773-bea8-494f-af9b-d4772c516f95"
      },
      "execution_count": 14,
      "outputs": [
        {
          "output_type": "stream",
          "name": "stdout",
          "text": [
            "24\n",
            "2523\n"
          ]
        }
      ]
    },
    {
      "cell_type": "markdown",
      "source": [
        "** Задача 6 **\n",
        "\n",
        "Напишите программу, которая находит полное число километров по заданному\n",
        "числу сантиметров. В ответе запишите результат работы программы для числа\n",
        "123456789"
      ],
      "metadata": {
        "id": "L7-YY8LL5llt"
      }
    },
    {
      "cell_type": "code",
      "source": [
        "y = int(input())\n",
        "print(y // 10**5)"
      ],
      "metadata": {
        "colab": {
          "base_uri": "https://localhost:8080/"
        },
        "id": "ED-SElbZ5phT",
        "outputId": "ab378f8b-1404-4517-8907-c6b88202380c"
      },
      "execution_count": 13,
      "outputs": [
        {
          "output_type": "stream",
          "name": "stdout",
          "text": [
            "123456789\n",
            "1234\n"
          ]
        }
      ]
    }
  ]
}