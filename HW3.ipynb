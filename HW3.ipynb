{
  "nbformat": 4,
  "nbformat_minor": 0,
  "metadata": {
    "colab": {
      "provenance": [],
      "authorship_tag": "ABX9TyN0WZ11jZ2iw2CdaUy89BwX",
      "include_colab_link": true
    },
    "kernelspec": {
      "name": "python3",
      "display_name": "Python 3"
    },
    "language_info": {
      "name": "python"
    }
  },
  "cells": [
    {
      "cell_type": "markdown",
      "metadata": {
        "id": "view-in-github",
        "colab_type": "text"
      },
      "source": [
        "<a href=\"https://colab.research.google.com/github/DanyaFire/Pyprac/blob/main/HW3.ipynb\" target=\"_parent\"><img src=\"https://colab.research.google.com/assets/colab-badge.svg\" alt=\"Open In Colab\"/></a>"
      ]
    },
    {
      "cell_type": "markdown",
      "source": [
        "**Задача 1**\n",
        "\n",
        "Ниже написана программа, которая на вход принимает число с клавиатуры до\n",
        "тех пор, пока не будет введено чётное или оканчивающееся на 5 число:\n",
        "В ответе запишите условие на месте ***, чтобы программа работала как положено"
      ],
      "metadata": {
        "id": "RXAIKKrxzVJo"
      }
    },
    {
      "cell_type": "code",
      "execution_count": 5,
      "metadata": {
        "colab": {
          "base_uri": "https://localhost:8080/"
        },
        "id": "0OMl105izRbB",
        "outputId": "067f2eb5-8316-40f1-b65c-7ba21b42eb98"
      },
      "outputs": [
        {
          "name": "stdout",
          "output_type": "stream",
          "text": [
            "1\n",
            "3\n",
            "7\n",
            "25\n"
          ]
        }
      ],
      "source": [
        "x = int(input())\n",
        "while (x % 2 != 0) and (x % 5 != 0):\n",
        "  x = int(input())"
      ]
    },
    {
      "cell_type": "markdown",
      "source": [
        "**Задача 2**\n",
        "\n",
        "Вы пришли на испытание, по итогам которого будут выбраны кандидаты на стажировку в крутую IT-компанию. Вам нужно решить задачу, но Вы не знаете как,\n",
        "однако кандидат справа от Вас уже написал программу для решения задачи. Вам\n",
        "остается написать такое же решение, только не списывая точь-в-точь. Ниже дана\n",
        "программа второго кандидата, затем Ваша. В ответе через пробел напишите, что\n",
        "должно стоять на месте ∗ ∗ ∗.\n",
        "\n",
        "Ответ: i 10"
      ],
      "metadata": {
        "id": "8cexd0eqGF-H"
      }
    },
    {
      "cell_type": "code",
      "source": [
        "# программа второго кандидата:\n",
        "i = 0\n",
        "while i < 10:\n",
        "  print(i)\n",
        "  i = i + 1\n",
        "\n",
        "# Ваше решение:\n",
        "for i in range(10):\n",
        "  print(i)"
      ],
      "metadata": {
        "colab": {
          "base_uri": "https://localhost:8080/"
        },
        "id": "bcdLXWXtGry1",
        "outputId": "d01eb728-6871-4670-f6a0-35ac8c85d77c"
      },
      "execution_count": 6,
      "outputs": [
        {
          "output_type": "stream",
          "name": "stdout",
          "text": [
            "0\n",
            "1\n",
            "2\n",
            "3\n",
            "4\n",
            "5\n",
            "6\n",
            "7\n",
            "8\n",
            "9\n",
            "0\n",
            "1\n",
            "2\n",
            "3\n",
            "4\n",
            "5\n",
            "6\n",
            "7\n",
            "8\n",
            "9\n"
          ]
        }
      ]
    },
    {
      "cell_type": "markdown",
      "source": [
        "**Задача 3**\n",
        "\n",
        "На вход с клавиатуры подаются два положительных числа K и N (K < N). Напишите программу, которая выводит сумму нечетных чисел от K до N включительно\n",
        "с помощью цикла while. В ответе запишите результат работы программы для чисел:\n",
        "K = 12345 N = 56789"
      ],
      "metadata": {
        "id": "yAeT6yLrHm-F"
      }
    },
    {
      "cell_type": "code",
      "source": [
        "K = int(input())\n",
        "N = int(input())\n",
        "\n",
        "sum = 0\n",
        "while K <= N:\n",
        "  if (K % 2 != 0) or (K == N):\n",
        "    sum += K\n",
        "  K += 1\n",
        "\n",
        "print(sum)"
      ],
      "metadata": {
        "colab": {
          "base_uri": "https://localhost:8080/"
        },
        "id": "Gap__lvHHuzs",
        "outputId": "ceec0257-7dc8-4425-dc3a-bdc1c5c1638c"
      },
      "execution_count": 33,
      "outputs": [
        {
          "output_type": "stream",
          "name": "stdout",
          "text": [
            "12345\n",
            "56789\n",
            "768182441\n"
          ]
        }
      ]
    },
    {
      "cell_type": "markdown",
      "source": [
        "**Задача 4**\n",
        "\n",
        "На вход с клавиатуры подается положительное число N. Напишите программу,\n",
        "которая находит факториал числа (факториал – это произведение всех чисел от 1\n",
        "до N). В ответе запишите результаты работы программы для числа 10\n"
      ],
      "metadata": {
        "id": "TaokLTAxact3"
      }
    },
    {
      "cell_type": "code",
      "source": [
        "n = int(input())\n",
        "f = 1\n",
        "if n != 0:\n",
        "  for i in range(1, n + 1):\n",
        "    f *= i\n",
        "print(f)"
      ],
      "metadata": {
        "colab": {
          "base_uri": "https://localhost:8080/"
        },
        "id": "ujt903z6ai-u",
        "outputId": "9eac03f3-abff-4712-a979-1e3bd6dbaa0f"
      },
      "execution_count": 42,
      "outputs": [
        {
          "output_type": "stream",
          "name": "stdout",
          "text": [
            "10\n",
            "3628800\n"
          ]
        }
      ]
    }
  ]
}