{
  "nbformat": 4,
  "nbformat_minor": 0,
  "metadata": {
    "colab": {
      "provenance": [],
      "authorship_tag": "ABX9TyMLUynTLguwQ2fuG4GX8kZ1",
      "include_colab_link": true
    },
    "kernelspec": {
      "name": "python3",
      "display_name": "Python 3"
    },
    "language_info": {
      "name": "python"
    }
  },
  "cells": [
    {
      "cell_type": "markdown",
      "metadata": {
        "id": "view-in-github",
        "colab_type": "text"
      },
      "source": [
        "<a href=\"https://colab.research.google.com/github/DanyaFire/Pyprac/blob/main/HW12.ipynb\" target=\"_parent\"><img src=\"https://colab.research.google.com/assets/colab-badge.svg\" alt=\"Open In Colab\"/></a>"
      ]
    },
    {
      "cell_type": "markdown",
      "source": [
        "**Задача 1**\n",
        "\n",
        "Ваш робот написал очередную программу.\n",
        "\n",
        "Ответ:\n",
        "\n",
        "4 1\n",
        "\n",
        "5 6"
      ],
      "metadata": {
        "id": "_VuUHHs3F3uH"
      }
    },
    {
      "cell_type": "code",
      "execution_count": 1,
      "metadata": {
        "colab": {
          "base_uri": "https://localhost:8080/"
        },
        "id": "aaSyO-8DFweQ",
        "outputId": "8911e597-5b96-4204-8f88-6d8cc28845e8"
      },
      "outputs": [
        {
          "output_type": "stream",
          "name": "stdout",
          "text": [
            "4 1\n",
            "5 6\n"
          ]
        }
      ],
      "source": [
        "a = [2, 4, 6, 8]\n",
        "b = {1, 3, 5, 7}\n",
        "a_itera = iter(a)\n",
        "b_iterb = iter(b)\n",
        "next(iter(a_itera))\n",
        "print(next(iter(a_itera)), next(iter(b_iterb)))\n",
        "next(iter(b_iterb))\n",
        "print(next(iter(b_iterb)), next(iter(a_itera)))"
      ]
    },
    {
      "cell_type": "markdown",
      "source": [
        "**Задача 2**\n",
        "\n",
        "Что выведет данная программа?\n",
        "\n",
        "Ответ:\n",
        "\n",
        "П\n",
        "\n",
        "П\n",
        "\n",
        "Ш"
      ],
      "metadata": {
        "id": "Fj2KCb1FG0EN"
      }
    },
    {
      "cell_type": "code",
      "source": [
        "str='ППШ'\n",
        "iterator=iter(str)\n",
        "for x in iterator:\n",
        "  print(x)"
      ],
      "metadata": {
        "colab": {
          "base_uri": "https://localhost:8080/"
        },
        "id": "1FEBYb00HBbO",
        "outputId": "6df4f916-c3a4-4d30-98e2-5d2dbff016f6"
      },
      "execution_count": 2,
      "outputs": [
        {
          "output_type": "stream",
          "name": "stdout",
          "text": [
            "П\n",
            "П\n",
            "Ш\n"
          ]
        }
      ]
    },
    {
      "cell_type": "markdown",
      "source": [
        "**Задача 3**\n",
        "\n",
        "Что выведет данная программа?\n",
        "\n",
        "Ответ: bee"
      ],
      "metadata": {
        "id": "1n-dcQZ-HTO1"
      }
    },
    {
      "cell_type": "code",
      "source": [
        "d = {1: 'bee', 2: 'raccoon', 3: 'snake'}\n",
        "iterator = iter(d)\n",
        "print(d[next(iterator)])"
      ],
      "metadata": {
        "colab": {
          "base_uri": "https://localhost:8080/"
        },
        "id": "YOz7NG1_HZcY",
        "outputId": "ddac1a65-819f-4482-8eb9-8ca83f7b2127"
      },
      "execution_count": 3,
      "outputs": [
        {
          "output_type": "stream",
          "name": "stdout",
          "text": [
            "bee\n"
          ]
        }
      ]
    },
    {
      "cell_type": "markdown",
      "source": [
        "**Задача 4**\n",
        "\n",
        "Что выведет данная программа? Проанализируйте результат работы программы.\n",
        "\n",
        "Работает это так:\n",
        "\n",
        "1) x in interator: мы начинаем с 1 и идём до x, нашли x и вывели True. Иначе, если не нашёлся x, возвращаем False.\n",
        "\n",
        "2) Как у нас происходит: Итерируемся с помощью оператора in по итератору от 1 до 9, выкидываем True. Дальше итератор остаётся на этой же позиции и с последующим вызовом 9 in iterator мы идём от 10 до 19 и не находим 9, поэтому выкидывает False."
      ],
      "metadata": {
        "id": "y3UZ7ay_HqFM"
      }
    },
    {
      "cell_type": "code",
      "source": [
        "a = [int(s) for s in range(1, 20)]\n",
        "iterator = iter(a)\n",
        "print(9 in iterator)\n",
        "print(9 in iterator)"
      ],
      "metadata": {
        "colab": {
          "base_uri": "https://localhost:8080/"
        },
        "id": "jLjZGhORLV1M",
        "outputId": "1db08951-9c5e-454d-c1ca-77a80fe0d8e1"
      },
      "execution_count": 6,
      "outputs": [
        {
          "output_type": "stream",
          "name": "stdout",
          "text": [
            "True\n",
            "False\n"
          ]
        }
      ]
    },
    {
      "cell_type": "markdown",
      "source": [
        "**Задача 5**\n",
        "\n",
        "Что выведет данная программа? В ответе укажите значения, которые выведет программа, через пробел.\n",
        "\n",
        "Ответ:\n",
        "\n",
        "1\n",
        "\n",
        "4\n",
        "\n",
        "16"
      ],
      "metadata": {
        "id": "y41FHfy3PBh2"
      }
    },
    {
      "cell_type": "code",
      "source": [
        "a = (i ** 2 for i in range (10) if i % 3 != 0)\n",
        "print(next(a))\n",
        "print(next(a))\n",
        "print(next(a))"
      ],
      "metadata": {
        "colab": {
          "base_uri": "https://localhost:8080/"
        },
        "id": "rvmL-xQzPhIP",
        "outputId": "48b7fa6c-72b9-4c5a-f4a8-8d2372636510"
      },
      "execution_count": 7,
      "outputs": [
        {
          "output_type": "stream",
          "name": "stdout",
          "text": [
            "1\n",
            "4\n",
            "16\n"
          ]
        }
      ]
    },
    {
      "cell_type": "markdown",
      "source": [
        "**Задача 6**\n",
        "\n",
        "Напишите настоящий генератор, который возводит в квадрат целые числа от 1\n",
        "до 5 включительно. Выведите элементы с индексами 0, 2 и 4, не используя циклы\n",
        "программы. В ответе укажите эти значения через пробел.\n"
      ],
      "metadata": {
        "id": "PSIFVZFgQ4bl"
      }
    },
    {
      "cell_type": "code",
      "source": [
        "a = (i ** 2 for i in range(1,6))\n",
        "my_iter = iter(a)\n",
        "print(next(my_iter), end = \" \")\n",
        "next(my_iter)\n",
        "print(next(my_iter), end = \" \")\n",
        "next(my_iter)\n",
        "print(next(my_iter))"
      ],
      "metadata": {
        "colab": {
          "base_uri": "https://localhost:8080/"
        },
        "id": "BBk46FIlRCSt",
        "outputId": "1367f0bd-6708-4558-e296-07cbb9f32b17"
      },
      "execution_count": 11,
      "outputs": [
        {
          "output_type": "stream",
          "name": "stdout",
          "text": [
            "1 9 25\n"
          ]
        }
      ]
    },
    {
      "cell_type": "markdown",
      "source": [
        "**Задача 7**\n",
        "\n",
        "Реализуйте генератор списков для колоды карт (36 штук). Каждая карта выводится в виде строки, например, «6 Крести». При вызове next будет выведена следующая\n",
        "карта. По окончании перебора всей колоды будет выведено Stop iteration"
      ],
      "metadata": {
        "id": "ia1sY4X5SDQz"
      }
    },
    {
      "cell_type": "code",
      "source": [
        "suits = ['Крести', 'Черви', 'Буби', 'Пики']\n",
        "numbers = ['6', '7', '8', '9', '10', 'J', 'Q', 'K', 'A']\n",
        "cards = []\n",
        "\n",
        "for i in suits:\n",
        "  for j in numbers:\n",
        "    cards.append(j + ' ' + i)\n",
        "\n",
        "cards_iter = iter(cards)\n",
        "\n",
        "for x in range(36):\n",
        "  print(next(cards_iter))"
      ],
      "metadata": {
        "colab": {
          "base_uri": "https://localhost:8080/"
        },
        "id": "FZZXlwXNSk6Z",
        "outputId": "7f117b70-51aa-4f2c-cd8a-4a42e0025830"
      },
      "execution_count": 16,
      "outputs": [
        {
          "output_type": "stream",
          "name": "stdout",
          "text": [
            "6 Крести\n",
            "7 Крести\n",
            "8 Крести\n",
            "9 Крести\n",
            "10 Крести\n",
            "J Крести\n",
            "Q Крести\n",
            "K Крести\n",
            "A Крести\n",
            "6 Черви\n",
            "7 Черви\n",
            "8 Черви\n",
            "9 Черви\n",
            "10 Черви\n",
            "J Черви\n",
            "Q Черви\n",
            "K Черви\n",
            "A Черви\n",
            "6 Буби\n",
            "7 Буби\n",
            "8 Буби\n",
            "9 Буби\n",
            "10 Буби\n",
            "J Буби\n",
            "Q Буби\n",
            "K Буби\n",
            "A Буби\n",
            "6 Пики\n",
            "7 Пики\n",
            "8 Пики\n",
            "9 Пики\n",
            "10 Пики\n",
            "J Пики\n",
            "Q Пики\n",
            "K Пики\n",
            "A Пики\n"
          ]
        }
      ]
    }
  ]
}