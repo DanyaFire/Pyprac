{
  "nbformat": 4,
  "nbformat_minor": 0,
  "metadata": {
    "colab": {
      "provenance": [],
      "authorship_tag": "ABX9TyMG8a2LyXQ7w/dfes1uwyY5",
      "include_colab_link": true
    },
    "kernelspec": {
      "name": "python3",
      "display_name": "Python 3"
    },
    "language_info": {
      "name": "python"
    }
  },
  "cells": [
    {
      "cell_type": "markdown",
      "metadata": {
        "id": "view-in-github",
        "colab_type": "text"
      },
      "source": [
        "<a href=\"https://colab.research.google.com/github/DanyaFire/Pyprac/blob/main/HW10.ipynb\" target=\"_parent\"><img src=\"https://colab.research.google.com/assets/colab-badge.svg\" alt=\"Open In Colab\"/></a>"
      ]
    },
    {
      "cell_type": "markdown",
      "source": [
        "**Задача 1**\n",
        "\n",
        "Напишите функцию, которая на вход принимает список, а возвращает словарь,\n",
        "где каждый элемент списка является и ключом, и значением. В ответе запишите\n",
        "результаты работы для списка: [1, 2, 3, 4, 5]"
      ],
      "metadata": {
        "id": "shYM2j2EW1Pa"
      }
    },
    {
      "cell_type": "code",
      "execution_count": 10,
      "metadata": {
        "colab": {
          "base_uri": "https://localhost:8080/"
        },
        "id": "Ryg-qBf3WwJ3",
        "outputId": "70865697-8ea0-44a6-f8c7-40992cedec1e"
      },
      "outputs": [
        {
          "output_type": "stream",
          "name": "stdout",
          "text": [
            "{1: 1, 2: 2, 3: 3, 4: 4, 5: 5}\n"
          ]
        }
      ],
      "source": [
        "def transform(li):\n",
        "  a = {j : j for j in li}\n",
        "  return a\n",
        "\n",
        "l = [1, 2, 3, 4, 5]\n",
        "\n",
        "print(transform(l))"
      ]
    },
    {
      "cell_type": "markdown",
      "source": [
        "**Задача 2**\n",
        "\n",
        "Напишите программу для генерации и печати словаря, который содержит число\n",
        "от 1 до n включительно в формате (x, x*x). В ответе запишите вывод программы\n",
        "для n = 5"
      ],
      "metadata": {
        "id": "KvPAX-ZiaX0q"
      }
    },
    {
      "cell_type": "code",
      "source": [
        "def pr(n):\n",
        "  a = {x : x ** 2 for x in range(1, n + 1)}\n",
        "  return a\n",
        "\n",
        "print(pr(5))"
      ],
      "metadata": {
        "colab": {
          "base_uri": "https://localhost:8080/"
        },
        "id": "6JqXZTxfadxB",
        "outputId": "8e542252-9436-4d49-b8ca-2c6afcd491f7"
      },
      "execution_count": 13,
      "outputs": [
        {
          "output_type": "stream",
          "name": "stdout",
          "text": [
            "{1: 1, 2: 4, 3: 9, 4: 16, 5: 25}\n"
          ]
        }
      ]
    },
    {
      "cell_type": "markdown",
      "source": [
        "**Задача 3**\n",
        "\n",
        "Дан словарь с числовыми значениями. Напишите программу, которая их перемножает и выводит на экран. В ответе запишите результат работы программы для\n",
        "словаря: $\\{'data1' : 375, 'data2' : 567, 'data3' : −37, 'data4' : 21\\}$"
      ],
      "metadata": {
        "id": "EpJbRw-AbR4P"
      }
    },
    {
      "cell_type": "code",
      "source": [
        "def pr_date(a):\n",
        "  prod = 1\n",
        "  for j in a.keys():\n",
        "    prod *= a[j]\n",
        "  return prod\n",
        "\n",
        "a = {'data1': 375, 'data2' : 567, 'data3' : -37, 'data4': 21}\n",
        "print(pr_date(a))"
      ],
      "metadata": {
        "colab": {
          "base_uri": "https://localhost:8080/"
        },
        "id": "IygrGIaUbw2B",
        "outputId": "220e3594-1b92-4f3f-dada-12bcf8a54b36"
      },
      "execution_count": 17,
      "outputs": [
        {
          "output_type": "stream",
          "name": "stdout",
          "text": [
            "-165209625\n"
          ]
        }
      ]
    },
    {
      "cell_type": "markdown",
      "source": [
        "**Задача 4**\n",
        "\n",
        "Напишите программу, которая считает знаки пунктуации в символьной строке. К\n",
        "знакам пунктуации относятся символы из набора: \".,:;!?\". В ответе укажите результат работы программы для строки: \"Летний день - это день, когда наступает летнее\n",
        "солнцестояние и длительность дня достигает своего максимума. В разных странах и\n",
        "регионах летние дни могут иметь разную продолжительность и характеризоваться\n",
        "разными погодными условиями. Вообще, летние дни обычно ассоциируются с теплой\n",
        "и ясной погодой, зелеными лугами, пляжами, купанием в море или озере, пикниками и барбекю. В летние дни люди часто отдыхают и проводят время на открытом\n",
        "воздухе, занимаются спортом, путешествуют и открывают новые места!\""
      ],
      "metadata": {
        "id": "heFwg8AsW_-F"
      }
    },
    {
      "cell_type": "code",
      "source": [
        "def find_psign(s):\n",
        "  punct = ['.', ',', ':', ';', '!', '?']\n",
        "  if s in punct:\n",
        "    return True\n",
        "  else:\n",
        "    return False\n",
        "\n",
        "st = 'Летний день - это день, когда наступает летнее солнцестояние и длительность дня достигает своего максимума. В разных странах и регионах летние дни могут иметь разную продолжительность и характеризоваться разными погодными условиями. Вообще, летние дни обычно ассоциируются с теплой и ясной погодой, зелеными лугами, пляжами, купанием в море или озере, пикниками и барбекю. В летние дни люди часто отдыхают и проводят время на открытом воздухе, занимаются спортом, путешествуют и открывают новые места!'\n",
        "counter = 0\n",
        "\n",
        "for j in st:\n",
        "  if find_psign(j) is True:\n",
        "    counter += 1\n",
        "\n",
        "print(counter)\n",
        "\n",
        "print(sum([1 for j in st if find_psign(j) is True]))"
      ],
      "metadata": {
        "colab": {
          "base_uri": "https://localhost:8080/"
        },
        "id": "4C2TB-82XEuu",
        "outputId": "0713a1ba-8344-489f-b289-509bc100439d"
      },
      "execution_count": 5,
      "outputs": [
        {
          "output_type": "stream",
          "name": "stdout",
          "text": [
            "12\n",
            "12\n"
          ]
        }
      ]
    },
    {
      "cell_type": "markdown",
      "source": [
        "**Задача 5**\n",
        "\n",
        "Напишите программу, которая выводит все различные цифры, встречающиеся в\n",
        "исходной строке, в порядке возрастания. Если в строке нет цифр, то вывести только\n",
        "\"NO\". В ответе запишите результат программы для строки:\n",
        "”kn1mb9c7c5cv5cc9cvv7cx9sd8nm4cz2bm4k6hf9d”"
      ],
      "metadata": {
        "id": "xdrU8celcTPl"
      }
    },
    {
      "cell_type": "code",
      "source": [
        "def find_fig(s):\n",
        "  figures = [str(i) for i in range(10)]\n",
        "  if s in figures:\n",
        "    return True\n",
        "  else:\n",
        "    return False\n",
        "\n",
        "\n",
        "def fig_order(st):\n",
        "  a = []\n",
        "\n",
        "  for t in st:\n",
        "    if find_fig(t) is True:\n",
        "      a.append(int(t))\n",
        "\n",
        "  if a == []:\n",
        "    return \"NO\"\n",
        "  a = list(set(a))\n",
        "  return sorted(a)\n",
        "\n",
        "\n",
        "print(fig_order('kn1mb9c7c5cv5cc9cvv7cx9sd8nm4cz2bm4k6hf9d'))"
      ],
      "metadata": {
        "colab": {
          "base_uri": "https://localhost:8080/"
        },
        "id": "eqvu2THQcc6k",
        "outputId": "bb7b9b26-0e44-41f1-99aa-b08c20e746ab"
      },
      "execution_count": 32,
      "outputs": [
        {
          "output_type": "stream",
          "name": "stdout",
          "text": [
            "[1, 2, 4, 5, 6, 7, 8, 9]\n"
          ]
        }
      ]
    }
  ]
}