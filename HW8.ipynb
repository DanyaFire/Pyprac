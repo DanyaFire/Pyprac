{
  "nbformat": 4,
  "nbformat_minor": 0,
  "metadata": {
    "colab": {
      "provenance": [],
      "authorship_tag": "ABX9TyMLYzqF2xvCaFTXRYM69ihb",
      "include_colab_link": true
    },
    "kernelspec": {
      "name": "python3",
      "display_name": "Python 3"
    },
    "language_info": {
      "name": "python"
    }
  },
  "cells": [
    {
      "cell_type": "markdown",
      "metadata": {
        "id": "view-in-github",
        "colab_type": "text"
      },
      "source": [
        "<a href=\"https://colab.research.google.com/github/DanyaFire/Pyprac/blob/main/HW8.ipynb\" target=\"_parent\"><img src=\"https://colab.research.google.com/assets/colab-badge.svg\" alt=\"Open In Colab\"/></a>"
      ]
    },
    {
      "cell_type": "markdown",
      "source": [
        "**Задача 1**\n",
        "\n",
        "Напишите программу, которая выводит таблицу умножения от 1 до 10 включительно, размера 10 × 10."
      ],
      "metadata": {
        "id": "rdkoDrAS_Dfg"
      }
    },
    {
      "cell_type": "code",
      "execution_count": 3,
      "metadata": {
        "colab": {
          "base_uri": "https://localhost:8080/"
        },
        "id": "wUOzfrzx-_7U",
        "outputId": "df77b758-f905-4e67-f6d8-3fa564471566"
      },
      "outputs": [
        {
          "output_type": "stream",
          "name": "stdout",
          "text": [
            "[1, 2, 3, 4, 5, 6, 7, 8, 9, 10]\n",
            "[2, 4, 6, 8, 10, 12, 14, 16, 18, 20]\n",
            "[3, 6, 9, 12, 15, 18, 21, 24, 27, 30]\n",
            "[4, 8, 12, 16, 20, 24, 28, 32, 36, 40]\n",
            "[5, 10, 15, 20, 25, 30, 35, 40, 45, 50]\n",
            "[6, 12, 18, 24, 30, 36, 42, 48, 54, 60]\n",
            "[7, 14, 21, 28, 35, 42, 49, 56, 63, 70]\n",
            "[8, 16, 24, 32, 40, 48, 56, 64, 72, 80]\n",
            "[9, 18, 27, 36, 45, 54, 63, 72, 81, 90]\n",
            "[10, 20, 30, 40, 50, 60, 70, 80, 90, 100]\n"
          ]
        }
      ],
      "source": [
        "a = []\n",
        "for i in range(1,11):\n",
        "  for j in range(1, 11):\n",
        "    a.append(i * j)\n",
        "  print(a)\n",
        "  a.clear()"
      ]
    },
    {
      "cell_type": "markdown",
      "source": [
        "**Задача 2**\n",
        "\n",
        "Напишите программу, которая находит все «пифагоровы тройки» в заданном диапазоне чисел – натуральные решения уравнения $x^2 + y^2 = k^2$\n",
        ", где x, y и k лежат в\n",
        "интервале от l до r включительно. В ответе напишите результат работы программы\n",
        "для l = 10, r = 50"
      ],
      "metadata": {
        "id": "htLdLTdG_w20"
      }
    },
    {
      "cell_type": "code",
      "source": [
        "s = input()\n",
        "l, r = int(s.split()[0]), int(s.split()[1])\n",
        "counter = 0\n",
        "for x in range(l, r+1):\n",
        "  for y in range(l, r+1):\n",
        "    for k in range(l, r+1):\n",
        "      if x ** 2 + y ** 2 == k ** 2:\n",
        "        counter += 1\n",
        "print(counter)"
      ],
      "metadata": {
        "colab": {
          "base_uri": "https://localhost:8080/"
        },
        "id": "LVt835PLAE3T",
        "outputId": "cf9ca95a-171e-443d-f90c-a69c4b55734e"
      },
      "execution_count": 19,
      "outputs": [
        {
          "output_type": "stream",
          "name": "stdout",
          "text": [
            "10 50\n",
            "26\n"
          ]
        }
      ]
    },
    {
      "cell_type": "markdown",
      "source": [
        "**Задача 3**\n",
        "\n",
        "Два различных натуральных числа называются дружественными, если первое из\n",
        "них равно сумме делителей второго числа, за исключением самого второго числа, а\n",
        "второе равно сумме делителей первого числа, за исключением самого первого числа.\n",
        "Напишите программу, которая находит все пары натуральных дружественных чисел\n",
        "(не равных друг другу). Оба числа пары должны быть меньше, чем введенное с\n",
        "клавиатуры число N. В ответе запишите результат работы для N = 300.\n",
        "\n",
        "Замечание: перестановки не считать разными парами. Например, 18 13 и 13 18\n",
        "-- одна и та же пара"
      ],
      "metadata": {
        "id": "UxouzfasCCgW"
      }
    },
    {
      "cell_type": "code",
      "source": [
        "N = int(input())\n",
        "\n",
        "for i in range(N):\n",
        "  for j in range(N):\n",
        "    if i < j and i == sum([d for d in range(1,j) if j % d == 0]) and j == sum([d for d in range(1,i) if i % d == 0]):\n",
        "      print(i,j)"
      ],
      "metadata": {
        "colab": {
          "base_uri": "https://localhost:8080/"
        },
        "id": "tCubTvr7Cujy",
        "outputId": "4f40523c-bde6-4400-de24-652031df596c"
      },
      "execution_count": 26,
      "outputs": [
        {
          "output_type": "stream",
          "name": "stdout",
          "text": [
            "300\n",
            "220 284\n"
          ]
        }
      ]
    },
    {
      "cell_type": "markdown",
      "source": [
        "**Задача 4**\n",
        "\n",
        "Натуральное число из n цифр является числом Армстронга, если сумма его цифр,\n",
        "возведенных в степень n, равна самому числу. Например, $153 = 1^3 + 5^3 + 3^3$ для\n",
        "n = 3. Напишите программу, которая находит все числа Армстронга для n = 4. В\n",
        "ответе запишите все эти числа через пробел."
      ],
      "metadata": {
        "id": "2B00OGG3EhF3"
      }
    },
    {
      "cell_type": "code",
      "source": [
        "n = int(input())\n",
        "\n",
        "for i in range(10 ** (n - 1), 10 ** n):\n",
        "  if i == sum([int(t) ** n for t in str(i)]):\n",
        "    print(i)"
      ],
      "metadata": {
        "colab": {
          "base_uri": "https://localhost:8080/"
        },
        "id": "XjHbv5sZEj4Q",
        "outputId": "f759d07f-8336-4b31-953b-526e3a6cbfc6"
      },
      "execution_count": 5,
      "outputs": [
        {
          "output_type": "stream",
          "name": "stdout",
          "text": [
            "4\n",
            "1634\n",
            "8208\n",
            "9474\n"
          ]
        }
      ]
    }
  ]
}