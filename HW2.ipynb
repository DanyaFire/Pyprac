{
  "nbformat": 4,
  "nbformat_minor": 0,
  "metadata": {
    "colab": {
      "provenance": [],
      "authorship_tag": "ABX9TyNGLdhB1OhxDrApWFWCcv8B",
      "include_colab_link": true
    },
    "kernelspec": {
      "name": "python3",
      "display_name": "Python 3"
    },
    "language_info": {
      "name": "python"
    }
  },
  "cells": [
    {
      "cell_type": "markdown",
      "metadata": {
        "id": "view-in-github",
        "colab_type": "text"
      },
      "source": [
        "<a href=\"https://colab.research.google.com/github/DanyaFire/Pyprac/blob/main/HW2.ipynb\" target=\"_parent\"><img src=\"https://colab.research.google.com/assets/colab-badge.svg\" alt=\"Open In Colab\"/></a>"
      ]
    },
    {
      "cell_type": "markdown",
      "source": [
        "**Задача 1**\n",
        "\n",
        "Ниже приведена программа, записанная на языке программирования Python.\n",
        "Что выведет программа при x = 10 и y = 13?\n",
        "\n",
        "Ответ до запуска: True"
      ],
      "metadata": {
        "id": "f7CDbE9qCIcn"
      }
    },
    {
      "cell_type": "code",
      "source": [
        "x = int(input())\n",
        "y = int(input())\n",
        "if x >= 5 and y < 25:\n",
        "  print('True')\n",
        "else:\n",
        "  print('False')\n"
      ],
      "metadata": {
        "colab": {
          "base_uri": "https://localhost:8080/"
        },
        "id": "QawDWE9TCC6H",
        "outputId": "a85c0055-778b-47a2-91e6-0bd3d8d361a7"
      },
      "execution_count": 2,
      "outputs": [
        {
          "output_type": "stream",
          "name": "stdout",
          "text": [
            "10\n",
            "13\n",
            "True\n"
          ]
        }
      ]
    },
    {
      "cell_type": "markdown",
      "source": [
        "**Задача 2**\n",
        "\n",
        "Вы создаёте сайт с авторизацией и Вам нужно, чтобы у пользователя были логин\n",
        "и пароль. Для безопасноти Вы запрашиваете ввод пароля два раза. Напишите программу, которая будет проверять пароль и его подтверждение на совпадение. Если\n",
        "все в порядке - вывести ’True’, если нет - ’False’. В ответе запишите результат\n",
        "работы для такого пароля: 8b66bBT67-NVbds8_23dlsa-02EcxjKseQ и его подтверждения: 8b66bBT67-NVbds8_23dIsa-02EcxjKseQ\n"
      ],
      "metadata": {
        "id": "9XbdJkXWCi3n"
      }
    },
    {
      "cell_type": "code",
      "source": [
        "login = input()\n",
        "password_1 = input()\n",
        "password_2 = input()\n",
        "if password_1 == password_2:\n",
        "    print('True')\n",
        "else:\n",
        "    print('False')"
      ],
      "metadata": {
        "colab": {
          "base_uri": "https://localhost:8080/"
        },
        "id": "iqAHk9pfCouP",
        "outputId": "5e42f48c-fbf9-4e8c-9eb8-f160b15bea5a"
      },
      "execution_count": 3,
      "outputs": [
        {
          "output_type": "stream",
          "name": "stdout",
          "text": [
            "login\n",
            "8b66bBT67-NVbds8_23dlsa-02EcxjKseQ\n",
            "8b66bBT67-NVbds8_23dIsa-02EcxjKseQ\n",
            "False\n"
          ]
        }
      ]
    },
    {
      "cell_type": "markdown",
      "source": [
        "**Задача 3**\n",
        "\n",
        "На вход с клавиатуры подаются 4 числа. Напишите программу, которая находит\n",
        "минимальное из них. В ответе запишите результат работы программы для чисел\n",
        "12, 10, 5 и 21."
      ],
      "metadata": {
        "id": "BvzY7ILnC7Qo"
      }
    },
    {
      "cell_type": "code",
      "source": [
        "a = int(input())\n",
        "b = int(input())\n",
        "c = int(input())\n",
        "d = int(input())\n",
        "the_least_of_a_b = 0\n",
        "the_least_of_c_d = 0\n",
        "\n",
        "if a > b:\n",
        "  the_least_of_a_b = b\n",
        "else:\n",
        "  the_least_of_a_b = a\n",
        "\n",
        "if c > d:\n",
        "  the_least_of_c_d = d\n",
        "else:\n",
        "  the_least_of_c_d = c\n",
        "\n",
        "if the_least_of_a_b > the_least_of_c_d:\n",
        "  print(the_least_of_c_d)\n",
        "else:\n",
        "  print(the_least_of_a_b)"
      ],
      "metadata": {
        "colab": {
          "base_uri": "https://localhost:8080/"
        },
        "id": "lVowQ96SDMwm",
        "outputId": "3552fe90-3fb4-4075-abc8-efcad0ea5547"
      },
      "execution_count": 12,
      "outputs": [
        {
          "output_type": "stream",
          "name": "stdout",
          "text": [
            "12\n",
            "10\n",
            "5\n",
            "21\n",
            "5\n"
          ]
        }
      ]
    },
    {
      "cell_type": "markdown",
      "source": [
        "**Задача 4**\n",
        "\n",
        "На вход с клавиатуры подаются 4 числа. Напишите программу, которая находит\n",
        "максимальное из них. В ответе запишите результат работы программы для чисел\n",
        "21, 1, 30 и 12."
      ],
      "metadata": {
        "id": "rShjkf3xGv72"
      }
    },
    {
      "cell_type": "code",
      "source": [
        "a = int(input())\n",
        "b = int(input())\n",
        "c = int(input())\n",
        "d = int(input())\n",
        "the_biggest_of_a_b = 0\n",
        "the_biggest_of_c_d = 0\n",
        "\n",
        "if a > b:\n",
        "  the_biggest_of_a_b = a\n",
        "else:\n",
        "  the_biggest_of_a_b = b\n",
        "\n",
        "if c > d:\n",
        "  the_biggest_of_c_d = c\n",
        "else:\n",
        "  the_biggest_of_c_d = d\n",
        "\n",
        "if the_biggest_of_a_b > the_biggest_of_c_d:\n",
        "  print(the_biggest_of_a_b)\n",
        "else:\n",
        "  print(the_biggest_of_c_d)"
      ],
      "metadata": {
        "colab": {
          "base_uri": "https://localhost:8080/"
        },
        "id": "hj9STqsYG58e",
        "outputId": "858f0e31-11b0-47cf-ca61-190a2601e1b2"
      },
      "execution_count": 14,
      "outputs": [
        {
          "output_type": "stream",
          "name": "stdout",
          "text": [
            "21\n",
            "1\n",
            "30\n",
            "12\n",
            "30\n"
          ]
        }
      ]
    },
    {
      "cell_type": "markdown",
      "source": [
        "**Задача 5**\n",
        "\n",
        "На вход с клавиатуры подаются 3 числа. Напишите программу, которая определяет, что треугольник с такими сторонами существует. Если такой треугольник\n",
        "существует - вывести ’True’, если нет - ’False’. Ответ запишите для чисел: 13, 19 и 15."
      ],
      "metadata": {
        "id": "LXRLuP_5K7A4"
      }
    },
    {
      "cell_type": "code",
      "source": [
        "x = int(input())\n",
        "y = int(input())\n",
        "z = int(input())\n",
        "\n",
        "if (x + y > z) and (y + z > x) and (x + z > y):\n",
        "  print('True')\n",
        "else:\n",
        "  print('False')"
      ],
      "metadata": {
        "colab": {
          "base_uri": "https://localhost:8080/"
        },
        "id": "y1TseheoLCaf",
        "outputId": "c91a91b1-f768-4f9a-f14f-9f71cff59c57"
      },
      "execution_count": 17,
      "outputs": [
        {
          "output_type": "stream",
          "name": "stdout",
          "text": [
            "13\n",
            "19\n",
            "15\n",
            "True\n"
          ]
        }
      ]
    },
    {
      "cell_type": "markdown",
      "source": [
        "**Задача 6**\n",
        "\n",
        "На вход с клавиатуры подаются 3 числа. Напишите программу, которая определяет вид треугольника (разносторонний, равносторонний или вырожденный) с такими\n",
        "сторонами. В ответе укажите вид треугольника для чисел 10, 13 и 23.\n"
      ],
      "metadata": {
        "id": "1akU3JdqLtDP"
      }
    },
    {
      "cell_type": "code",
      "source": [
        "m = int(input())\n",
        "n = int(input())\n",
        "o = int(input())\n",
        "\n",
        "t_rex = (m + n > o) and (n + o > m) and (m + o > n) # типа треугольник существует triangle is exist <=> tr_ex <=> t-rex\n",
        "\n",
        "if (m == n) and (n == o) and (t_rex):\n",
        "  print('Равносторонний')\n",
        "\n",
        "if (m != n) and (m != o) and (n != o) and (t_rex == True):\n",
        "  print('Разносторонний')\n",
        "\n",
        "if t_rex == 0:\n",
        "  print('Вырожденный')"
      ],
      "metadata": {
        "colab": {
          "base_uri": "https://localhost:8080/"
        },
        "id": "JoE8bqrwLyyn",
        "outputId": "0b05dfe8-cc24-4637-97b7-ec538776cba2"
      },
      "execution_count": 25,
      "outputs": [
        {
          "output_type": "stream",
          "name": "stdout",
          "text": [
            "10\n",
            "13\n",
            "23\n",
            "Вырожденный\n"
          ]
        }
      ]
    },
    {
      "cell_type": "markdown",
      "source": [
        "**Задача 7**\n",
        "\n",
        "На вход с клавиатуры подаются 4 числа: a, b, c и d. Даны два отрезка на числовой\n",
        "прямой [a, b] и [c, d], соответственно a ≤ b и c ≤ d. Напишите программу, которая\n",
        "считает количество целых точек, являющихся пересечением этих отрезков с учётом\n",
        "границ. В ответе запишите результат работы программы для a = 3, b = 13, c = 7\n",
        "и d = 17"
      ],
      "metadata": {
        "id": "rPWjt59KOGlt"
      }
    },
    {
      "cell_type": "code",
      "source": [
        "a = int(input())\n",
        "b = int(input())\n",
        "c = int(input())\n",
        "d = int(input())\n",
        "\n",
        "if (a > b) or (c > d):\n",
        "   a = int(input())\n",
        "   b = int(input())\n",
        "   c = int(input())\n",
        "   d = int(input())\n",
        "\n",
        "count = 0\n",
        "if (a <= c <= b <= d):\n",
        "  count = b - c + 1\n",
        "\n",
        "elif (c <= a <= b <= d):\n",
        "  count = b - a + 1\n",
        "\n",
        "elif (a <= c <= d <= b):\n",
        "  count = d - c + 1\n",
        "\n",
        "elif (c <= a <= d <= b):\n",
        "  count = d - a + 1\n",
        "\n",
        "else:\n",
        "  count = 0\n",
        "\n",
        "print(count)\n"
      ],
      "metadata": {
        "colab": {
          "base_uri": "https://localhost:8080/"
        },
        "id": "R-oPn4neONtV",
        "outputId": "6b722ae6-168e-4262-def9-2290a440910b"
      },
      "execution_count": 33,
      "outputs": [
        {
          "output_type": "stream",
          "name": "stdout",
          "text": [
            "1\n",
            "3\n",
            "1\n",
            "5\n",
            "3\n"
          ]
        }
      ]
    }
  ]
}