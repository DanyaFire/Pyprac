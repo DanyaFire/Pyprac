{
  "cells": [
    {
      "cell_type": "markdown",
      "metadata": {
        "id": "view-in-github",
        "colab_type": "text"
      },
      "source": [
        "<a href=\"https://colab.research.google.com/github/DanyaFire/Pyprac/blob/main/HW18.ipynb\" target=\"_parent\"><img src=\"https://colab.research.google.com/assets/colab-badge.svg\" alt=\"Open In Colab\"/></a>"
      ]
    },
    {
      "cell_type": "markdown",
      "metadata": {
        "id": "CRIwVq6AEV2E"
      },
      "source": [
        "# Homework 18"
      ]
    },
    {
      "cell_type": "markdown",
      "metadata": {
        "id": "nCA-j1I4EgHR"
      },
      "source": [
        "**Задача 1**\n",
        "\n",
        "Напишите декоратор timer, который измеряет время выполнения функции и выводит результат на экран. Протестируйте декоратор на нескольких функциях разной\n",
        "сложности."
      ]
    },
    {
      "cell_type": "code",
      "execution_count": 25,
      "metadata": {
        "colab": {
          "base_uri": "https://localhost:8080/"
        },
        "id": "uAq3k-xzESlN",
        "outputId": "42df0b7f-3ec2-4d49-ed9c-e304be29a0c4"
      },
      "outputs": [
        {
          "output_type": "stream",
          "name": "stdout",
          "text": [
            "Функция f работала 1.1920928955078125e-06 секунд.\n",
            "Функция g работала 1.6689300537109375e-06 секунд.\n",
            "144 1188100\n"
          ]
        }
      ],
      "source": [
        "import time\n",
        "\n",
        "def timer(func):\n",
        "    def inside_func(x):\n",
        "        start = time.time()\n",
        "        f_val = func(x)**2\n",
        "        finish = time.time()\n",
        "        print(f'Функция {func.__name__} работала {finish-start} секунд.')\n",
        "        return f_val\n",
        "    return inside_func\n",
        "\n",
        "@timer\n",
        "def f(x):\n",
        "    return (x + 2)\n",
        "\n",
        "@timer\n",
        "def g(x):\n",
        "    return (x**2 + x**3 - x)\n",
        "\n",
        "print(f(10), g(10))"
      ]
    },
    {
      "cell_type": "markdown",
      "metadata": {
        "id": "ZfcoEQfMH-Ug"
      },
      "source": [
        "**Задача 2**\n",
        "\n",
        "Напишите декоратор cache, который кэширует результаты выполнения функции\n",
        "и возвращает сохраненное значение при повторном вызове функции с теми же аргументами. При вызове функции с новыми аргументами декоратор должен пересчитать результат и сохранить его в кэше."
      ]
    },
    {
      "cell_type": "code",
      "execution_count": null,
      "metadata": {
        "colab": {
          "base_uri": "https://localhost:8080/"
        },
        "id": "YQsM_hb4Ec9Z",
        "outputId": "a2789e57-9d1a-4249-9c67-41ad2edc1c30"
      },
      "outputs": [
        {
          "name": "stdout",
          "output_type": "stream",
          "text": [
            "0 1\n",
            "1 1\n",
            "2 2\n",
            "3 3\n",
            "4 5\n",
            "5 8\n",
            "6 13\n",
            "7 21\n",
            "8 34\n",
            "9 55\n",
            "10 89\n",
            "11 144\n",
            "12 233\n",
            "13 377\n",
            "14 610\n",
            "15 987\n",
            "16 1597\n",
            "17 2584\n",
            "18 4181\n",
            "19 6765\n",
            "20 10946\n",
            "21 17711\n",
            "22 28657\n",
            "23 46368\n",
            "24 75025\n",
            "25 121393\n",
            "26 196418\n",
            "27 317811\n",
            "28 514229\n",
            "29 832040\n",
            "30 1346269\n",
            "31 2178309\n",
            "32 3524578\n",
            "33 5702887\n",
            "34 9227465\n",
            "35 14930352\n",
            "36 24157817\n",
            "37 39088169\n",
            "38 63245986\n",
            "39 102334155\n",
            "40 165580141\n",
            "41 267914296\n",
            "42 433494437\n",
            "43 701408733\n",
            "44 1134903170\n",
            "45 1836311903\n",
            "46 2971215073\n",
            "47 4807526976\n",
            "48 7778742049\n",
            "49 12586269025\n",
            "50 20365011074\n",
            "51 32951280099\n",
            "52 53316291173\n",
            "53 86267571272\n",
            "54 139583862445\n",
            "55 225851433717\n",
            "56 365435296162\n",
            "57 591286729879\n",
            "58 956722026041\n",
            "59 1548008755920\n",
            "60 2504730781961\n",
            "61 4052739537881\n",
            "62 6557470319842\n",
            "63 10610209857723\n",
            "64 17167680177565\n",
            "65 27777890035288\n",
            "66 44945570212853\n",
            "67 72723460248141\n",
            "68 117669030460994\n",
            "69 190392490709135\n",
            "70 308061521170129\n",
            "71 498454011879264\n",
            "72 806515533049393\n",
            "73 1304969544928657\n",
            "74 2111485077978050\n",
            "75 3416454622906707\n",
            "76 5527939700884757\n",
            "77 8944394323791464\n",
            "78 14472334024676221\n",
            "79 23416728348467685\n",
            "80 37889062373143906\n",
            "81 61305790721611591\n",
            "82 99194853094755497\n",
            "83 160500643816367088\n",
            "84 259695496911122585\n",
            "85 420196140727489673\n",
            "86 679891637638612258\n",
            "87 1100087778366101931\n",
            "88 1779979416004714189\n",
            "89 2880067194370816120\n",
            "90 4660046610375530309\n",
            "91 7540113804746346429\n",
            "92 12200160415121876738\n",
            "93 19740274219868223167\n",
            "94 31940434634990099905\n",
            "95 51680708854858323072\n",
            "96 83621143489848422977\n",
            "97 135301852344706746049\n",
            "98 218922995834555169026\n",
            "99 354224848179261915075\n"
          ]
        }
      ],
      "source": [
        "def cacher(func):\n",
        "    D = dict()\n",
        "    def inside_func(x):\n",
        "        if x not in D:\n",
        "            D[x] = func(x)\n",
        "        return D[x]\n",
        "    return inside_func\n",
        "\n",
        "@cacher\n",
        "def f(x):\n",
        "    if x <= 1:\n",
        "        return 1\n",
        "    else:\n",
        "        return f(x-1) + f(x-2)\n",
        "\n",
        "for n in range(100):\n",
        "    print(n, f(n))"
      ]
    },
    {
      "cell_type": "markdown",
      "metadata": {
        "id": "Wh8XcVyOqenn"
      },
      "source": [
        "**Задача 3**\n",
        "\n",
        "Реализуйте декоратор logging, который будет записывать вызовы функции с аргументами в лог-файл."
      ]
    },
    {
      "cell_type": "code",
      "execution_count": 23,
      "metadata": {
        "colab": {
          "base_uri": "https://localhost:8080/"
        },
        "id": "7zu6nGxfqkYV",
        "outputId": "fbb5581e-46de-46fc-e1c5-a11496033ecb"
      },
      "outputs": [
        {
          "output_type": "execute_result",
          "data": {
            "text/plain": [
              "0"
            ]
          },
          "metadata": {},
          "execution_count": 23
        }
      ],
      "source": [
        "def my_logging(func):\n",
        "    def inside_func(*args, **kwargs):\n",
        "        with open('out.txt', 'a', encoding = 'utf-8') as g:\n",
        "            g.write(f'Функция {func.__name__} {func(*args)=} была вызвана c аргументами {args}{kwargs}\\n')\n",
        "        return func(*args, **kwargs)\n",
        "    return inside_func\n",
        "\n",
        "@my_logging\n",
        "def f(*args):\n",
        "    sum = 0\n",
        "    for arg in args:\n",
        "        sum += arg\n",
        "    return sum\n",
        "\n",
        "f(10, 20)\n",
        "f(158, 2, 13, 27, 5)\n",
        "f(1,2,3,4,5,6,7,8,9,10)\n",
        "f(0,-1,1,-2,2,-100,100)"
      ]
    },
    {
      "cell_type": "markdown",
      "source": [
        "**Задача 4**\n",
        "\n",
        "Создайте декоратор retry, который позволяет повторить выполнение функции,\n",
        "если она вернула None. Декоратор должен автоматически повторить выполнение\n",
        "указанное количество раз с задержкой между попытками.\n"
      ],
      "metadata": {
        "id": "-Zz2mAvV_Q5D"
      }
    },
    {
      "cell_type": "code",
      "source": [
        "def retry(max_attempt, delay):\n",
        "    def decorator(func):\n",
        "        def inside_func(*args, **kwargs):\n",
        "            attempt = 0\n",
        "            while attempt < max_attempt:\n",
        "                result = func(*args, **kwargs)\n",
        "                args = list(args)\n",
        "                args[0] = int(input())\n",
        "                if result is not None:\n",
        "                    return result\n",
        "                attempt += 1\n",
        "            return None\n",
        "        time.sleep(delay)\n",
        "        return inside_func\n",
        "    return decorator\n",
        "\n",
        "@retry(3, delay = 0)\n",
        "def f(a):\n",
        "    if a == 0:\n",
        "        return None\n",
        "    else:\n",
        "        return a\n",
        "\n",
        "print(f(0))"
      ],
      "metadata": {
        "colab": {
          "base_uri": "https://localhost:8080/"
        },
        "id": "Jz4Pu-lP_VED",
        "outputId": "61dfc7e4-849a-41a9-d660-70a4afa83db3"
      },
      "execution_count": 52,
      "outputs": [
        {
          "output_type": "stream",
          "name": "stdout",
          "text": [
            "0\n",
            "1\n",
            "1\n",
            "1\n"
          ]
        }
      ]
    }
  ],
  "metadata": {
    "colab": {
      "provenance": [],
      "mount_file_id": "1ImxoZxi19PyXwl61ozfSMjGFaA55Aacw",
      "authorship_tag": "ABX9TyPd14VtOVDaAnm8D1jN1CmE",
      "include_colab_link": true
    },
    "kernelspec": {
      "display_name": "Python 3",
      "name": "python3"
    },
    "language_info": {
      "name": "python"
    }
  },
  "nbformat": 4,
  "nbformat_minor": 0
}