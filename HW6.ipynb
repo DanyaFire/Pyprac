{
  "nbformat": 4,
  "nbformat_minor": 0,
  "metadata": {
    "colab": {
      "provenance": [],
      "authorship_tag": "ABX9TyOpShqbvXDpJzwNI9rErmoq",
      "include_colab_link": true
    },
    "kernelspec": {
      "name": "python3",
      "display_name": "Python 3"
    },
    "language_info": {
      "name": "python"
    }
  },
  "cells": [
    {
      "cell_type": "markdown",
      "metadata": {
        "id": "view-in-github",
        "colab_type": "text"
      },
      "source": [
        "<a href=\"https://colab.research.google.com/github/DanyaFire/Pyprac/blob/main/HW6.ipynb\" target=\"_parent\"><img src=\"https://colab.research.google.com/assets/colab-badge.svg\" alt=\"Open In Colab\"/></a>"
      ]
    },
    {
      "cell_type": "markdown",
      "source": [
        "**Задача 1**\n",
        "\n",
        "Напишите программу которая запрашивает у пользователя два числа n и m и\n",
        "добавляет их в список с помощью метода append. Затем программа выводит на экран\n",
        "сумму этих чисел. В ответе укажите вывод массива, затем сумму добавленных чисел,\n",
        "для n = 12 и m = 34\n"
      ],
      "metadata": {
        "id": "jqlLwZrggBmn"
      }
    },
    {
      "cell_type": "code",
      "execution_count": 2,
      "metadata": {
        "colab": {
          "base_uri": "https://localhost:8080/"
        },
        "id": "lK982Lwjf_GU",
        "outputId": "85429459-a37f-4bbc-aafe-03d1907bc32c"
      },
      "outputs": [
        {
          "output_type": "stream",
          "name": "stdout",
          "text": [
            "Введи числа n и m для листа:\n",
            "12\n",
            "34\n",
            "[12, 34] 46\n"
          ]
        }
      ],
      "source": [
        "print('Введи числа n и m для листа:')\n",
        "a = []\n",
        "\n",
        "for number in range(2):\n",
        "  a.append(int(input()))\n",
        "\n",
        "print(a, sum(a))\n"
      ]
    },
    {
      "cell_type": "markdown",
      "source": [
        "**Задача 2**\n",
        "\n",
        "Напишите программу, которая запрашивает у пользователя строку текста, разбивает ее на слова и добавляет каждое слово в массив с помощью метода append. Затем\n",
        "программа выводит первое и последнее слово в списке. В ответе укажите результат\n",
        "работы программы для строки \"Программирование после школы\""
      ],
      "metadata": {
        "id": "XP7JZX2KhRI2"
      }
    },
    {
      "cell_type": "code",
      "source": [
        "s = input('Введи строку:')\n",
        "a = []\n",
        "\n",
        "for word in s.split():\n",
        "  a.append(word)\n",
        "\n",
        "print(a[0], a[-1])"
      ],
      "metadata": {
        "colab": {
          "base_uri": "https://localhost:8080/"
        },
        "id": "zxrrHwfzhwXO",
        "outputId": "61df5904-e6fa-4a80-a107-d26938dafaaa"
      },
      "execution_count": 33,
      "outputs": [
        {
          "output_type": "stream",
          "name": "stdout",
          "text": [
            "Введи строку:Программирование после школы\n",
            "Программирование школы\n"
          ]
        }
      ]
    },
    {
      "cell_type": "markdown",
      "source": [
        "**Задача 3**\n",
        "\n",
        "Напишите программу, которая запрашивает у пользователя строку текста, разбивает ее на слова и добавляет каждое слово в массив с помощью метода append. Затем\n",
        "программа находит самое длинное слово в массиве и выводит его. В ответе укажите\n",
        "резульатат работы программы для строки \"Вот Вотяков нетипичный учитель\""
      ],
      "metadata": {
        "id": "Q-RDEpOipCFg"
      }
    },
    {
      "cell_type": "code",
      "source": [
        "s = input('Введи строку:')\n",
        "a = []\n",
        "\n",
        "for word in s.split():\n",
        "  a.append(word)\n",
        "\n",
        "max_len = -100000000000\n",
        "a_max_len = ''\n",
        "\n",
        "for elem in a:\n",
        "  if len(elem) > max_len:\n",
        "    a_max_len = elem\n",
        "    max_len = len(elem)\n",
        "\n",
        "print(a_ml)\n",
        "\n"
      ],
      "metadata": {
        "colab": {
          "base_uri": "https://localhost:8080/"
        },
        "id": "m4wxYh1NpGxf",
        "outputId": "213b2d12-5284-41da-c969-41d7bdc41509"
      },
      "execution_count": 40,
      "outputs": [
        {
          "output_type": "stream",
          "name": "stdout",
          "text": [
            "Введи строку:Вот Вотяков нетипичный учитель\n",
            "нетипичный\n"
          ]
        }
      ]
    },
    {
      "cell_type": "markdown",
      "source": [
        "**Задача 4**\n",
        "\n",
        "Напишите программу, которая запрашивает у пользователя число n и добавляет в\n",
        "список все числа от 1 до n включительно, которые делятся на 3 или на 5, с помощью\n",
        "метода append. Затем программа находит сумму всех чисел в списке и выводит ее\n",
        "на экран. В ответе укажите результат работы программы для n = 1000.\n"
      ],
      "metadata": {
        "id": "9DQmgEKYqsR_"
      }
    },
    {
      "cell_type": "code",
      "source": [
        "n = int(input('Сколько чисел хочешь?\\n'))\n",
        "a = []\n",
        "\n",
        "for i in range(1, n+1):\n",
        "  if i % 3 == 0 or i % 5 == 0:\n",
        "    a.append(i)\n",
        "\n",
        "print(sum(a))\n",
        "\n"
      ],
      "metadata": {
        "colab": {
          "base_uri": "https://localhost:8080/"
        },
        "id": "Z-zOCfMgq77S",
        "outputId": "febe1c47-1439-40f8-bb9b-7faf466b96e6"
      },
      "execution_count": 48,
      "outputs": [
        {
          "output_type": "stream",
          "name": "stdout",
          "text": [
            "Сколько чисел хочешь?\n",
            "1000\n",
            "234168\n"
          ]
        }
      ]
    },
    {
      "cell_type": "markdown",
      "source": [
        "**Задача 5**\n",
        "\n",
        "Напишите программу, которая запрашивает у пользователя строку текста и добавляет каждое слово в список с помощью метода append. Затем программа находит\n",
        "самое часто встречающееся слово в списке и выводит его на экран. В ответе укажите\n",
        "результат работы программы для строки \"cat cat dog cat dog dog cat cat dog dog cat\"\n"
      ],
      "metadata": {
        "id": "wDRKPJbosBJz"
      }
    },
    {
      "cell_type": "code",
      "source": [
        "s = input('Введи строку:')\n",
        "a = []\n",
        "\n",
        "for word in s.split():\n",
        "  a.append(word)\n",
        "\n",
        "counter = 0\n",
        "a_oft = ''\n",
        "\n",
        "for elem in a:\n",
        "  if a.count(elem) > counter:\n",
        "    counter = a.count(elem)\n",
        "    a_oft = elem\n",
        "\n",
        "print(elem)"
      ],
      "metadata": {
        "colab": {
          "base_uri": "https://localhost:8080/"
        },
        "id": "cUrItVz3sGix",
        "outputId": "fcadd8b5-e2be-4040-d253-493345a4648c"
      },
      "execution_count": 57,
      "outputs": [
        {
          "output_type": "stream",
          "name": "stdout",
          "text": [
            "Введи строку:cat cat dog cat dog dog cat cat dog dog cat\n",
            "cat\n"
          ]
        }
      ]
    }
  ]
}