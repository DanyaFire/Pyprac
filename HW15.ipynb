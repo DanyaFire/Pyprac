{
  "nbformat": 4,
  "nbformat_minor": 0,
  "metadata": {
    "colab": {
      "provenance": [],
      "authorship_tag": "ABX9TyNUNRNKQ5oBPKWJCMpBRuPg",
      "include_colab_link": true
    },
    "kernelspec": {
      "name": "python3",
      "display_name": "Python 3"
    },
    "language_info": {
      "name": "python"
    }
  },
  "cells": [
    {
      "cell_type": "markdown",
      "metadata": {
        "id": "view-in-github",
        "colab_type": "text"
      },
      "source": [
        "<a href=\"https://colab.research.google.com/github/DanyaFire/Pyprac/blob/main/HW15.ipynb\" target=\"_parent\"><img src=\"https://colab.research.google.com/assets/colab-badge.svg\" alt=\"Open In Colab\"/></a>"
      ]
    },
    {
      "cell_type": "markdown",
      "source": [
        "# Home-Work 15"
      ],
      "metadata": {
        "id": "0MTe9A7TE9ok"
      }
    },
    {
      "cell_type": "markdown",
      "source": [
        "**Задача 1**\n",
        "\n",
        "Данный код должен возвращать произведение чисел 18, a и b. Есть ли ошибки в\n",
        "этом коде?\n",
        "\n",
        "Ответ (до запуска): NameError: name ’b’ is not defined"
      ],
      "metadata": {
        "id": "VphpwjJhFCsw"
      }
    },
    {
      "cell_type": "code",
      "execution_count": 2,
      "metadata": {
        "colab": {
          "base_uri": "https://localhost:8080/"
        },
        "id": "G6cETesPE7jY",
        "outputId": "e4d165fa-1177-4715-bb4e-22b85c133c49"
      },
      "outputs": [
        {
          "output_type": "stream",
          "name": "stdout",
          "text": [
            "36\n"
          ]
        }
      ],
      "source": [
        "def f(a,b):\n",
        "  return 18 * a * b\n",
        "\n",
        "print(f(1,2))"
      ]
    },
    {
      "cell_type": "markdown",
      "source": [
        "**Задача 2**\n",
        "\n",
        "Следующий код должен находить сумму последовательности чисел от 1 до 10 и\n",
        "выводить ее на экран. Есть ли ошибки в этом коде?\n",
        "\n",
        "Ответ (до запуска): NameError: name ’summa’ is not defined"
      ],
      "metadata": {
        "id": "PXB7ELZeHIwL"
      }
    },
    {
      "cell_type": "code",
      "source": [
        "summa = 0\n",
        "\n",
        "for i in range(1, 11):\n",
        "  summa += i\n",
        "print(\"The sum is: \", summa)"
      ],
      "metadata": {
        "colab": {
          "base_uri": "https://localhost:8080/"
        },
        "id": "OsYIO8tWHV3q",
        "outputId": "02b259b0-f2a2-46d9-c498-eecf1fd2982f"
      },
      "execution_count": 3,
      "outputs": [
        {
          "output_type": "stream",
          "name": "stdout",
          "text": [
            "The sum is:  55\n"
          ]
        }
      ]
    },
    {
      "cell_type": "markdown",
      "source": [
        "**Задача 3**\n",
        "\n",
        "Следующий код должен проверять, является ли число четным, и выводить на\n",
        "экран соответствующее сообщение. Есть ли ошибки в этом коде?\n",
        "\n",
        "Ответ (до запуска): TypeError: not all arguments converted during string formatting"
      ],
      "metadata": {
        "id": "T2ZEWIaXIC2p"
      }
    },
    {
      "cell_type": "code",
      "source": [
        "def is_even(n):\n",
        "  if n % 2 == 0:\n",
        "    print(n, \" is even\")\n",
        "  else:\n",
        "    print(n, \" is odd\")\n",
        "\n",
        "is_even(4)"
      ],
      "metadata": {
        "colab": {
          "base_uri": "https://localhost:8080/"
        },
        "id": "2PVYfSNnIIKn",
        "outputId": "268a8b4c-1061-49b9-debe-f4bbcf66d260"
      },
      "execution_count": 4,
      "outputs": [
        {
          "output_type": "stream",
          "name": "stdout",
          "text": [
            "4  is even\n"
          ]
        }
      ]
    },
    {
      "cell_type": "markdown",
      "source": [
        "**Задача 4**\n",
        "\n",
        "Вместо ожидаемого результата вычисления факториала функция возвращает неправильный результат или выдает ошибку. Необходимо найти и исправить ошибку в\n",
        "функции, используя отладчик debugger, чтобы она правильно рассчитывала факториал заданного числа."
      ],
      "metadata": {
        "id": "KyX5hK71IsvB"
      }
    },
    {
      "cell_type": "code",
      "source": [
        "def factorial(n):\n",
        "  if n < 0:\n",
        "    return None\n",
        "  if n == 0:\n",
        "    return 1\n",
        "  else:\n",
        "    return n * factorial(n - 1)\n",
        "\n",
        "print(factorial(4))"
      ],
      "metadata": {
        "colab": {
          "base_uri": "https://localhost:8080/"
        },
        "id": "RX3hd4sMIx_7",
        "outputId": "4646d91c-cb0e-48ef-d29b-5393d6346cab"
      },
      "execution_count": 5,
      "outputs": [
        {
          "output_type": "stream",
          "name": "stdout",
          "text": [
            "24\n"
          ]
        }
      ]
    },
    {
      "cell_type": "markdown",
      "source": [
        "**Задача 5**\n",
        "\n",
        "Программа должна проверять, является ли строка палиндромом, но она возвращает неправильный результат или выдает ошибку. Необходимо найти и исправить\n",
        "ошибку в функции, используя отладчик debugger, чтобы она правильно проверяла,\n",
        "является ли строка палиндромом."
      ],
      "metadata": {
        "id": "lGPAItUQKznk"
      }
    },
    {
      "cell_type": "code",
      "source": [
        "def is_palindrome(s):\n",
        "  s = s.lower()\n",
        "  for i in range(len(s)):\n",
        "    if s[i] != s[len(s)-1-i]:\n",
        "      return False\n",
        "  return True\n",
        "\n",
        "print(is_palindrome('kazak'))"
      ],
      "metadata": {
        "colab": {
          "base_uri": "https://localhost:8080/"
        },
        "id": "zqsN9CCiMbgx",
        "outputId": "5db1e6bf-0b02-4859-ee6a-6f3332e377ca"
      },
      "execution_count": 6,
      "outputs": [
        {
          "output_type": "stream",
          "name": "stdout",
          "text": [
            "True\n"
          ]
        }
      ]
    },
    {
      "cell_type": "markdown",
      "source": [
        "**Задача 6**\n",
        "\n",
        "Программа должна рассчитывать произведение элементов списка, но она возвращает неправильный результат или выдает ошибку. Необходимо найти и исправить\n",
        "ошибку в функции, используя отладчик debugger, чтобы она правильно рассчитывала произведение элементов списка"
      ],
      "metadata": {
        "id": "-cINCBUfPGOa"
      }
    },
    {
      "cell_type": "code",
      "source": [
        "def multiplylist(lst):\n",
        "  if len(lst) == 0:\n",
        "    return None\n",
        "  else:\n",
        "    result = 1\n",
        "    for i in lst:\n",
        "      result = result * i\n",
        "    return result\n",
        "\n",
        "print(multiplylist([1,2,3,4,5]))"
      ],
      "metadata": {
        "colab": {
          "base_uri": "https://localhost:8080/"
        },
        "id": "Kld54eYDPKXy",
        "outputId": "5a55a231-330a-4567-dd7b-2fb8984e74f6"
      },
      "execution_count": 7,
      "outputs": [
        {
          "output_type": "stream",
          "name": "stdout",
          "text": [
            "120\n"
          ]
        }
      ]
    }
  ]
}