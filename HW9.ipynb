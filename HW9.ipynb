{
  "nbformat": 4,
  "nbformat_minor": 0,
  "metadata": {
    "colab": {
      "provenance": [],
      "authorship_tag": "ABX9TyMYZwYu3sklUCXivX45VjwW",
      "include_colab_link": true
    },
    "kernelspec": {
      "name": "python3",
      "display_name": "Python 3"
    },
    "language_info": {
      "name": "python"
    }
  },
  "cells": [
    {
      "cell_type": "markdown",
      "metadata": {
        "id": "view-in-github",
        "colab_type": "text"
      },
      "source": [
        "<a href=\"https://colab.research.google.com/github/DanyaFire/Pyprac/blob/main/HW9.ipynb\" target=\"_parent\"><img src=\"https://colab.research.google.com/assets/colab-badge.svg\" alt=\"Open In Colab\"/></a>"
      ]
    },
    {
      "cell_type": "markdown",
      "source": [
        "**Задача 1**\n",
        "\n",
        "Напишите функцию для суммирования чисел в массиве. В ответ запишите результат работы функции для массива: [1, 7, 42, 12, 10, 1, 4, 0]\n"
      ],
      "metadata": {
        "id": "_xI6OB4LFY4k"
      }
    },
    {
      "cell_type": "code",
      "execution_count": 1,
      "metadata": {
        "colab": {
          "base_uri": "https://localhost:8080/"
        },
        "id": "0M2zzrbeFWH_",
        "outputId": "6715ac6b-87e6-423a-86d6-b8788c80271e"
      },
      "outputs": [
        {
          "output_type": "stream",
          "name": "stdout",
          "text": [
            "77\n"
          ]
        }
      ],
      "source": [
        "def massumma(mass):\n",
        "  summa = 0\n",
        "  for j in mass:\n",
        "    summa += j\n",
        "  return summa\n",
        "\n",
        "a = [1, 7, 42, 12, 10, 1, 4, 0]\n",
        "print(massumma(a))"
      ]
    },
    {
      "cell_type": "markdown",
      "source": [
        "**Задача 2**\n",
        "\n",
        "Напишите функцию, которая проверяет, находится ли число в заданном диапазоне. В ответе запишите результат работы функции для числа 7 в диапазоне [1, 9]"
      ],
      "metadata": {
        "id": "EJUIDPgoGHD1"
      }
    },
    {
      "cell_type": "code",
      "source": [
        "def check_range(n, r):\n",
        "  if n in range(r[0], r[-1] + 1):\n",
        "    return True\n",
        "  else:\n",
        "    return False\n",
        "\n",
        "print(check_range(7,[1,9]))"
      ],
      "metadata": {
        "colab": {
          "base_uri": "https://localhost:8080/"
        },
        "id": "ysbJOIigGL3j",
        "outputId": "16cbc059-e656-42ba-c2b5-62b737295652"
      },
      "execution_count": 8,
      "outputs": [
        {
          "output_type": "stream",
          "name": "stdout",
          "text": [
            "True\n"
          ]
        }
      ]
    },
    {
      "cell_type": "markdown",
      "source": [
        "**Задача 3**\n",
        "\n",
        "Напишите функцию, которая проверяет, является ли число совершенным (совершенное число - это положительное число, которая равно сумме его положительных\n",
        "делителей, исключая само число. Первое совершенное число - 6, сумма делителей\n",
        "1 + 2 + 3 = 6) и выводит булево значение (True - если число совершенное, False - если\n",
        "нет). В ответе укажите значение, которая выдаст функция для числа 8128"
      ],
      "metadata": {
        "id": "ZuGbf7AzHLJf"
      }
    },
    {
      "cell_type": "code",
      "source": [
        "def find_div(m):\n",
        "  a = []\n",
        "  for j in range(1, m):\n",
        "    if m % j == 0:\n",
        "      a.append(j)\n",
        "  return a\n",
        "\n",
        "def perfect_check(n):\n",
        "  return n == sum(find_div(n))\n",
        "\n",
        "print(perfect_check(8128))\n"
      ],
      "metadata": {
        "colab": {
          "base_uri": "https://localhost:8080/"
        },
        "id": "lSNWl_cDHRkO",
        "outputId": "ed331b6d-af8d-48e3-e3ed-42ee55e17fe7"
      },
      "execution_count": 12,
      "outputs": [
        {
          "output_type": "stream",
          "name": "stdout",
          "text": [
            "True\n"
          ]
        }
      ]
    },
    {
      "cell_type": "markdown",
      "source": [
        "**Задача 4**\n",
        "\n",
        "Напишите функцию, которая проверяет, является ли число палиндромом (палиндром - одно и то же значение если читать слева направо и справа налево) и выводит\n",
        "булево значение (True - если число простое, False - если нет). В ответе укажите\n",
        "значение, которое выдаст функция на числе 1234567899876554321"
      ],
      "metadata": {
        "id": "LCR0u-btIjsf"
      }
    },
    {
      "cell_type": "code",
      "source": [
        "def check_palindrom(t):\n",
        "  s = [i for i in str(t)]\n",
        "\n",
        "  for i in range(len(s)//2):\n",
        "    if s[i] != s[-i-1]:\n",
        "      return False\n",
        "\n",
        "  return True\n",
        "\n",
        "check_palindrom(1234567899876554321)"
      ],
      "metadata": {
        "colab": {
          "base_uri": "https://localhost:8080/"
        },
        "id": "O-tl9NYfIrk_",
        "outputId": "209b6227-76cf-4b5e-893c-b71732080ffe"
      },
      "execution_count": 35,
      "outputs": [
        {
          "output_type": "execute_result",
          "data": {
            "text/plain": [
              "False"
            ]
          },
          "metadata": {},
          "execution_count": 35
        }
      ]
    },
    {
      "cell_type": "markdown",
      "source": [
        "**Задача 5**\n",
        "\n",
        "Напишите функцию, которая проверяет число на простоту и выводит булево значение (True - если число простое, False - если нет). В ответе укажите значение,\n",
        "которое выдаст функция для числа 123321\n"
      ],
      "metadata": {
        "id": "Bj9SI6lVNOMO"
      }
    },
    {
      "cell_type": "code",
      "source": [
        "def find_div(s):\n",
        "  a = []\n",
        "  for j in range(1, s+1):\n",
        "    if s % j == 0:\n",
        "      a.append(j)\n",
        "  return a\n",
        "\n",
        "def is_prime(n):\n",
        "  if len(find_div(n)) == 2:\n",
        "    return True\n",
        "  else:\n",
        "    return False\n",
        "\n",
        "print(is_prime(123321))"
      ],
      "metadata": {
        "colab": {
          "base_uri": "https://localhost:8080/"
        },
        "id": "j1JWQFF0NTBd",
        "outputId": "9a47ed03-19f7-493e-b31a-5e5c3fa4e00d"
      },
      "execution_count": 43,
      "outputs": [
        {
          "output_type": "stream",
          "name": "stdout",
          "text": [
            "False\n"
          ]
        }
      ]
    },
    {
      "cell_type": "markdown",
      "source": [
        "**Задача 6**\n",
        "\n",
        "На вход с клавиатуры подается положительное число N. Напишите программу,\n",
        "которая находит число Фибоначчи с индексом N (числа Фибоначчи считаются по\n",
        "формуле: F(n) = F(n-1) + F(n-2), F(1) = 0, F(2) = 1, F(3) = 1). Ответ укажите для\n",
        "N = 10"
      ],
      "metadata": {
        "id": "wkeHPT5NOdxU"
      }
    },
    {
      "cell_type": "code",
      "source": [
        "def F(N):\n",
        "  if N == 1:\n",
        "    return 0\n",
        "  elif N == 2:\n",
        "    return 1\n",
        "  else:\n",
        "    return F(N - 1) + F(N - 2)\n",
        "\n",
        "\n",
        "print(F(int(input())))\n"
      ],
      "metadata": {
        "colab": {
          "base_uri": "https://localhost:8080/"
        },
        "id": "jVBQadf5Oiia",
        "outputId": "c279ca96-d4f4-47d1-bc9b-9d18048de67f"
      },
      "execution_count": 52,
      "outputs": [
        {
          "output_type": "stream",
          "name": "stdout",
          "text": [
            "10\n",
            "34\n"
          ]
        }
      ]
    }
  ]
}