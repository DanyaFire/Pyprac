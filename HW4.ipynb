{
  "nbformat": 4,
  "nbformat_minor": 0,
  "metadata": {
    "colab": {
      "provenance": [],
      "authorship_tag": "ABX9TyPa7fsWCcRb1t1so3PWQuWn",
      "include_colab_link": true
    },
    "kernelspec": {
      "name": "python3",
      "display_name": "Python 3"
    },
    "language_info": {
      "name": "python"
    }
  },
  "cells": [
    {
      "cell_type": "markdown",
      "metadata": {
        "id": "view-in-github",
        "colab_type": "text"
      },
      "source": [
        "<a href=\"https://colab.research.google.com/github/DanyaFire/Pyprac/blob/main/HW4.ipynb\" target=\"_parent\"><img src=\"https://colab.research.google.com/assets/colab-badge.svg\" alt=\"Open In Colab\"/></a>"
      ]
    },
    {
      "cell_type": "markdown",
      "source": [
        "**Задача 1**\n",
        "\n",
        "Вы собрали своего робота, который может писать любые программы. Его первая\n",
        "программа выглядит так:"
      ],
      "metadata": {
        "id": "D1K0NvesYTF4"
      }
    },
    {
      "cell_type": "code",
      "execution_count": 2,
      "metadata": {
        "colab": {
          "base_uri": "https://localhost:8080/"
        },
        "id": "y4UkazZJb-aI",
        "outputId": "bd1a4bd8-7b1a-4622-fc08-b4d2e2c64bf7"
      },
      "outputs": [
        {
          "output_type": "stream",
          "name": "stdout",
          "text": [
            "3\n",
            "5\n",
            "4\n",
            "3\n",
            "[2, 2, 2]\n"
          ]
        }
      ],
      "source": [
        "n = int(input())\n",
        "a = [0]\n",
        "for i in range(n):\n",
        "  x = int(input())\n",
        "  a = [i] * x\n",
        "print(a)"
      ]
    },
    {
      "cell_type": "markdown",
      "source": [
        "В ответе напишите, что будет выведено при последовательном вводе чисел: 3, 5,\n",
        "4, 3.\n",
        "\n",
        "Ответ(до запуска): [2,2,2]"
      ],
      "metadata": {
        "id": "YhWtKPBhYd8P"
      }
    },
    {
      "cell_type": "markdown",
      "source": [
        "**Задача 2**\n",
        "\n",
        "Ваш робот написал еще одну программу:"
      ],
      "metadata": {
        "id": "IkfA8-geZrJt"
      }
    },
    {
      "cell_type": "code",
      "source": [
        "n = int(input())\n",
        "a = []\n",
        "for i in range(n):\n",
        "  a = a + [i] * i\n",
        "print(a)"
      ],
      "metadata": {
        "colab": {
          "base_uri": "https://localhost:8080/"
        },
        "id": "evsqUGEEZ0Hd",
        "outputId": "0c434d11-fde5-457b-c135-75adf8f6fc59"
      },
      "execution_count": 3,
      "outputs": [
        {
          "output_type": "stream",
          "name": "stdout",
          "text": [
            "3\n",
            "[1, 2, 2]\n"
          ]
        }
      ]
    },
    {
      "cell_type": "markdown",
      "source": [
        "Что будет выведено в результате работы программы при вводе числа 3?\n",
        "\n",
        "Ответ: [1, 2, 2]"
      ],
      "metadata": {
        "id": "zy2hvE34Z2U9"
      }
    },
    {
      "cell_type": "markdown",
      "source": [
        "**Задача 3**\n",
        "\n",
        "На вход подается число n, затем последовательность из n чисел. Создайте массив,\n",
        "состоящий из чисел этой последовательности. В ответ запишите среднее арифметическое всех элементов массива для n = 5 и последовательности [2, 3, 1, 5, 10]."
      ],
      "metadata": {
        "id": "rh0ZvxO7aMDm"
      }
    },
    {
      "cell_type": "code",
      "source": [
        "n = int(input())\n",
        "a = []\n",
        "\n",
        "for i in range(n):\n",
        "  a += [int(input())]\n",
        "\n",
        "print(sum(a)/len(a))"
      ],
      "metadata": {
        "colab": {
          "base_uri": "https://localhost:8080/"
        },
        "id": "wytR5YqQaR8G",
        "outputId": "857db55c-c0fc-4323-d317-72cd9eddc19f"
      },
      "execution_count": 10,
      "outputs": [
        {
          "output_type": "stream",
          "name": "stdout",
          "text": [
            "5\n",
            "2\n",
            "3\n",
            "1\n",
            "5\n",
            "10\n",
            "4.2\n"
          ]
        }
      ]
    },
    {
      "cell_type": "markdown",
      "source": [
        "**Задача 4**\n",
        "\n",
        "На вход последовательно подаются числа n и m, затем последовательность из\n",
        "n чисел. Создайте массив, состоящий из чисел этой последовательности. Напишите\n",
        "программу, которая выводит элемент с индексом m. В ответе укажите результат\n",
        "работы программы для следующей последовательности: 10, 3, 1, 10, 23, 32, 18, 74,\n",
        "29, 73, 1, 82."
      ],
      "metadata": {
        "id": "SWLd-2KUbbMl"
      }
    },
    {
      "cell_type": "code",
      "source": [
        "n = int(input())\n",
        "m = int(input())\n",
        "a = []\n",
        "\n",
        "for i in range(n):\n",
        "  a += [int(input())]\n",
        "\n",
        "print(a[m])"
      ],
      "metadata": {
        "colab": {
          "base_uri": "https://localhost:8080/"
        },
        "id": "WEP6DlQ8bi-1",
        "outputId": "3c46ad5f-97de-4b6f-dfbc-2891a0c3e948"
      },
      "execution_count": 28,
      "outputs": [
        {
          "output_type": "stream",
          "name": "stdout",
          "text": [
            "10\n",
            "3\n",
            "1\n",
            "10\n",
            "23\n",
            "32\n",
            "18\n",
            "74\n",
            "29\n",
            "73\n",
            "1\n",
            "82\n",
            "32\n"
          ]
        }
      ]
    },
    {
      "cell_type": "markdown",
      "source": [
        "**Задача 5**\n",
        "\n",
        "На вход подается число n, затем последовательность из n чисел. Создайте массив,\n",
        "состоящий из чисел этой последовательности. В ответ запишите сумму чисел массива\n",
        "с шагом два, начиная с 0 элемента. В ответе запишите результат работы программы\n",
        "для последовательности 6, 1, 9, 2, 8, 3, 7."
      ],
      "metadata": {
        "id": "MzHGF8UBf0cl"
      }
    },
    {
      "cell_type": "code",
      "source": [
        "n = int(input())\n",
        "a = []\n",
        "\n",
        "for i in range(n):\n",
        "  a += [int(input())]\n",
        "\n",
        "sum = 0\n",
        "\n",
        "for j in range(0,len(a),2):\n",
        "  sum += a[j]\n",
        "\n",
        "print(sum)"
      ],
      "metadata": {
        "colab": {
          "base_uri": "https://localhost:8080/"
        },
        "id": "lQGB3xsrf3dW",
        "outputId": "a44cdc3d-ade5-41f3-e185-08d6e44830d6"
      },
      "execution_count": 30,
      "outputs": [
        {
          "output_type": "stream",
          "name": "stdout",
          "text": [
            "6\n",
            "1\n",
            "9\n",
            "2\n",
            "8\n",
            "3\n",
            "7\n",
            "6\n"
          ]
        }
      ]
    }
  ]
}