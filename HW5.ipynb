{
  "nbformat": 4,
  "nbformat_minor": 0,
  "metadata": {
    "colab": {
      "provenance": [],
      "authorship_tag": "ABX9TyPmGpZFuWbEyYMtrRljgR65",
      "include_colab_link": true
    },
    "kernelspec": {
      "name": "python3",
      "display_name": "Python 3"
    },
    "language_info": {
      "name": "python"
    }
  },
  "cells": [
    {
      "cell_type": "markdown",
      "metadata": {
        "id": "view-in-github",
        "colab_type": "text"
      },
      "source": [
        "<a href=\"https://colab.research.google.com/github/DanyaFire/Pyprac/blob/main/HW5.ipynb\" target=\"_parent\"><img src=\"https://colab.research.google.com/assets/colab-badge.svg\" alt=\"Open In Colab\"/></a>"
      ]
    },
    {
      "cell_type": "markdown",
      "source": [
        "**Задача 1**\n",
        "\n",
        "На вход с клавитуры подаётся число n. Выведите все числа, которые делятся на\n",
        "3 и не делятся на 6 в промежутке [0; n]. В ответе запишите вывод программы для\n",
        "n = 20."
      ],
      "metadata": {
        "id": "6XopxMKRkY9t"
      }
    },
    {
      "cell_type": "code",
      "execution_count": 5,
      "metadata": {
        "colab": {
          "base_uri": "https://localhost:8080/"
        },
        "id": "imh8nnaUkG46",
        "outputId": "546c6220-0796-4eec-9ea5-141a9094f4e4"
      },
      "outputs": [
        {
          "output_type": "stream",
          "name": "stdout",
          "text": [
            "20\n",
            "3\n",
            "9\n",
            "15\n"
          ]
        }
      ],
      "source": [
        "n = int(input())\n",
        "\n",
        "for x in range(0, n+1):\n",
        "  if x % 3 == 0 and x % 2 != 0:\n",
        "    print(x)"
      ]
    },
    {
      "cell_type": "markdown",
      "source": [
        "**Задача 2**\n",
        "\n",
        "На вход с клавитуры подаётся число n. Выведите все числа, у которых последняя\n",
        "цифра чётная в промежутке [10; n]. В ответе запишите вывод программы для n =\n",
        "17."
      ],
      "metadata": {
        "id": "xjbmb047lIDI"
      }
    },
    {
      "cell_type": "code",
      "source": [
        "n = int(input())\n",
        "\n",
        "for x in range(10, n+1):\n",
        "  if (x % 10) % 2 == 0:\n",
        "    print(x)"
      ],
      "metadata": {
        "colab": {
          "base_uri": "https://localhost:8080/"
        },
        "id": "nsQZIPvjlPYh",
        "outputId": "846f56eb-b836-458a-b9fa-cdad09b2afb8"
      },
      "execution_count": 12,
      "outputs": [
        {
          "output_type": "stream",
          "name": "stdout",
          "text": [
            "17\n",
            "10\n",
            "12\n",
            "14\n",
            "16\n"
          ]
        }
      ]
    },
    {
      "cell_type": "markdown",
      "source": [
        "**Задача 3**\n",
        "\n",
        "На вход с клавиатуры подаётся число n. Если число n - чётное, нужно вывести\n",
        "количество чётных чисел от 1 до n включительно, иначе - вывести сумму нечётных\n",
        "чисел от 1 до n включительно.\n",
        "В ответе запишите два числа: сначала вывод программы для n = 100, затем через\n",
        "пробел вывод программы для n = 99"
      ],
      "metadata": {
        "id": "m9BbjJl1nBK5"
      }
    },
    {
      "cell_type": "code",
      "source": [
        "counter = 0\n",
        "summa = 0\n",
        "\n",
        "for i in range(2):\n",
        "  n = int(input())\n",
        "\n",
        "  if n % 2 == 0:\n",
        "    for x in range(1, n+1):\n",
        "      if x % 2 == 0:\n",
        "        counter += 1\n",
        "  else:\n",
        "    for x in range(1, n+1):\n",
        "      if x % 2 != 0:\n",
        "        summa += x\n",
        "  i += 1\n",
        "print(counter, summa, sep = ' ')"
      ],
      "metadata": {
        "colab": {
          "base_uri": "https://localhost:8080/"
        },
        "id": "qeXpg4VpnD3j",
        "outputId": "5876ad69-4ea9-4882-a799-a782c1199f5c"
      },
      "execution_count": 16,
      "outputs": [
        {
          "output_type": "stream",
          "name": "stdout",
          "text": [
            "100\n",
            "99\n",
            "50 2500\n"
          ]
        }
      ]
    },
    {
      "cell_type": "markdown",
      "source": [
        "**Задача 4**\n",
        "\n",
        "На вход с клавиатуры подается число n. Если n делится на 3, считайте еще одно\n",
        "число m от пользователя и выведите количество чисел, кратных m, в промежутке [1;\n",
        "n], иначе - выведите через пробел степени числа n от 1 до n (n\n",
        "i\n",
        ", где i перебирается\n",
        "в промежутке [1; n])\n",
        "В ответе запишите сначала вывод программы для n = 8, затем через пробел вывод\n",
        "программы для n = 99 и m = 7"
      ],
      "metadata": {
        "id": "Wy8J6BIqof3K"
      }
    },
    {
      "cell_type": "code",
      "source": [
        "counter = 0\n",
        "\n",
        "for i in range(2):\n",
        "  n = int(input())\n",
        "\n",
        "  if n % 3 == 0:\n",
        "    m = int(input())\n",
        "    for x in range(1, n+1):\n",
        "      if x % m == 0:\n",
        "        counter += 1\n",
        "  else:\n",
        "    for x in range(1, n+1):\n",
        "      print(n**x, end = ' ')\n",
        "  i += 2\n",
        "print(counter)"
      ],
      "metadata": {
        "colab": {
          "base_uri": "https://localhost:8080/"
        },
        "id": "xLqLqmreoqqf",
        "outputId": "2859d1ba-ecef-469d-a515-bcadbefed141"
      },
      "execution_count": 32,
      "outputs": [
        {
          "output_type": "stream",
          "name": "stdout",
          "text": [
            "99\n",
            "7\n",
            "8\n",
            "8 64 512 4096 32768 262144 2097152 16777216 14\n"
          ]
        }
      ]
    },
    {
      "cell_type": "markdown",
      "source": [
        "**Задача 5**\n",
        "\n",
        "На вход с клавиатуры подаются 3 натуральных числа: a, b и n. Затем подаётся n\n",
        "натуральных чисел. Вам нужно вывести количество чисел, которые удовлетворяют\n",
        "теореме Пифагора, где число из последовательности - это гипотенуза, а катеты -\n",
        "это ранее поданные a и b. Кроме того, нужно проверить, что число из последовательности больше 10 и делится на 3 или 4. В ответе укажите вывод программы для\n",
        "последовательности (числа подаются через Enter):\n",
        "12, 16, 10, 20, 12, 11, 1, 19, 7, 10, 21, 22, 18"
      ],
      "metadata": {
        "id": "EjuOWs2YvFB_"
      }
    },
    {
      "cell_type": "code",
      "source": [
        "a, b, n = int(input()), int(input()), int(input())\n",
        "counter = 0\n",
        "\n",
        "for x in range(n):\n",
        "  x = int(input())\n",
        "  if a**2 + b**2 == x**2 and x > 10 and (x % 3 == 0 or x % 4 == 0):\n",
        "    counter += 1\n",
        "print(counter)"
      ],
      "metadata": {
        "colab": {
          "base_uri": "https://localhost:8080/"
        },
        "id": "w9w5d0eZvKdM",
        "outputId": "a52a1261-43ad-4343-80f6-ac61455f510a"
      },
      "execution_count": 39,
      "outputs": [
        {
          "output_type": "stream",
          "name": "stdout",
          "text": [
            "12\n",
            "16\n",
            "10\n",
            "20\n",
            "12\n",
            "11\n",
            "1\n",
            "19\n",
            "7\n",
            "10\n",
            "21\n",
            "22\n",
            "18\n",
            "1\n"
          ]
        }
      ]
    }
  ]
}